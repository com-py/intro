{
 "cells": [
  {
   "cell_type": "markdown",
   "metadata": {},
   "source": [
    "## <span style=\"color:blue\">Introduction to computation in physical sciences</span>\n",
    "### J Wang and A Wang, [github.com/com-py/intro](https://github.com/com-py/intro) \n",
    "### Ch07, `p5-qc`, Quantum computing simulation"
   ]
  },
  {
   "cell_type": "code",
   "execution_count": 1,
   "metadata": {},
   "outputs": [],
   "source": [
    "import numpy as np\n",
    "from numpy.random import random"
   ]
  },
  {
   "cell_type": "code",
   "execution_count": 2,
   "metadata": {},
   "outputs": [],
   "source": [
    "def Qubit():        # returns spin up [1,0]\n",
    "    return np.array([1, 0])\n",
    "    \n",
    "def H(qubit):       # Hadamard gate\n",
    "    hg = np.array([[1,1], [1,-1]])/np.sqrt(2.0)\n",
    "    return np.dot(hg, qubit)\n",
    "    \n",
    "def M(qubit):       # Measurement\n",
    "    return np.dot([1, 0], qubit)"
   ]
  },
  {
   "cell_type": "code",
   "execution_count": 3,
   "metadata": {},
   "outputs": [
    {
     "name": "stdout",
     "output_type": "stream",
     "text": [
      "Probability of spin up: 0.498\n"
     ]
    }
   ],
   "source": [
    "s = 0.0     # spin count\n",
    "N = 1000    # samplings\n",
    "for i in range(N):    \n",
    "    q = Qubit()\n",
    "    hq = H(q)\n",
    "    c1 = M(hq)      # amplitude\n",
    "    r = random()\n",
    "    if (r < c1**2): # spin up\n",
    "        s = s + 1.0\n",
    "        \n",
    "print('Probability of spin up:', s/N)"
   ]
  },
  {
   "cell_type": "code",
   "execution_count": null,
   "metadata": {},
   "outputs": [],
   "source": []
  }
 ],
 "metadata": {
  "kernelspec": {
   "display_name": "Python 3",
   "language": "python",
   "name": "python3"
  },
  "language_info": {
   "codemirror_mode": {
    "name": "ipython",
    "version": 3
   },
   "file_extension": ".py",
   "mimetype": "text/x-python",
   "name": "python",
   "nbconvert_exporter": "python",
   "pygments_lexer": "ipython3",
   "version": "3.7.0"
  }
 },
 "nbformat": 4,
 "nbformat_minor": 2
}
