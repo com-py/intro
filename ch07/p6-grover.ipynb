{
 "cells": [
  {
   "cell_type": "markdown",
   "metadata": {},
   "source": [
    "## <span style=\"color:blue\">Introduction to computation in physical sciences</span>\n",
    "### J Wang and A Wang, [github.com/com-py/intro](https://github.com/com-py/intro) \n",
    "### Ch07, `p6-grover`, Quantum Grover search"
   ]
  },
  {
   "cell_type": "code",
   "execution_count": 2,
   "metadata": {},
   "outputs": [],
   "source": [
    "from sympy import *\n",
    "from sympy.physics.quantum.qubit import Qubit, IntQubit, measure_partial\n",
    "from sympy.physics.quantum.qubit import measure_partial_oneshot\n",
    "from sympy.physics.quantum.gate import H\n",
    "from sympy.physics.quantum.qapply import qapply\n",
    "init_printing()"
   ]
  },
  {
   "cell_type": "code",
   "execution_count": 3,
   "metadata": {},
   "outputs": [
    {
     "data": {
      "image/png": "[encoded data removed]",
      "text/latex": [
       "$${\\left|0\\right\\rangle }$$"
      ],
      "text/plain": [
       "❘0⟩"
      ]
     },
     "execution_count": 3,
     "metadata": {},
     "output_type": "execute_result"
    }
   ],
   "source": [
    "q = Qubit(0)\n",
    "q"
   ]
  },
  {
   "cell_type": "code",
   "execution_count": 4,
   "metadata": {},
   "outputs": [
    {
     "data": {
      "image/png": "[encoded data removed]",
      "text/latex": [
       "$$\\left [ \\left ( {\\left|0\\right\\rangle }, \\quad 1\\right )\\right ]$$"
      ],
      "text/plain": [
       "[(❘0⟩, 1)]"
      ]
     },
     "execution_count": 4,
     "metadata": {},
     "output_type": "execute_result"
    }
   ],
   "source": [
    "measure_partial(q,(0))"
   ]
  },
  {
   "cell_type": "code",
   "execution_count": 5,
   "metadata": {},
   "outputs": [
    {
     "data": {
      "image/png": "[encoded data removed]",
      "text/latex": [
       "$${\\left|0\\right\\rangle }$$"
      ],
      "text/plain": [
       "❘0⟩"
      ]
     },
     "execution_count": 5,
     "metadata": {},
     "output_type": "execute_result"
    }
   ],
   "source": [
    "measure_partial_oneshot(q, [0])"
   ]
  },
  {
   "cell_type": "code",
   "execution_count": 6,
   "metadata": {},
   "outputs": [
    {
     "data": {
      "image/png": "[encoded data removed]",
      "text/latex": [
       "$$\\frac{\\sqrt{2}}{2} {\\left|0\\right\\rangle } + \\frac{\\sqrt{2}}{2} {\\left|1\\right\\rangle }$$"
      ],
      "text/plain": [
       "√2⋅❘0⟩   √2⋅❘1⟩\n",
       "────── + ──────\n",
       "  2        2   "
      ]
     },
     "execution_count": 6,
     "metadata": {},
     "output_type": "execute_result"
    }
   ],
   "source": [
    "hq = qapply(H(0)*q)\n",
    "hq"
   ]
  },
  {
   "cell_type": "code",
   "execution_count": 7,
   "metadata": {},
   "outputs": [
    {
     "data": {
      "image/png": "[encoded data removed]",
      "text/latex": [
       "$$\\left [ \\left ( {\\left|0\\right\\rangle }, \\quad \\frac{1}{2}\\right ), \\quad \\left ( {\\left|1\\right\\rangle }, \\quad \\frac{1}{2}\\right )\\right ]$$"
      ],
      "text/plain": [
       "[(❘0⟩, 1/2), (❘1⟩, 1/2)]"
      ]
     },
     "execution_count": 7,
     "metadata": {},
     "output_type": "execute_result"
    }
   ],
   "source": [
    "measure_partial(hq,(0))"
   ]
  },
  {
   "cell_type": "code",
   "execution_count": 8,
   "metadata": {},
   "outputs": [
    {
     "data": {
      "image/png": "[encoded data removed]",
      "text/latex": [
       "$${\\left|1\\right\\rangle }$$"
      ],
      "text/plain": [
       "❘1⟩"
      ]
     },
     "execution_count": 8,
     "metadata": {},
     "output_type": "execute_result"
    }
   ],
   "source": [
    "measure_partial_oneshot(hq, [0])"
   ]
  },
  {
   "cell_type": "code",
   "execution_count": 10,
   "metadata": {},
   "outputs": [
    {
     "data": {
      "image/png": "[encoded data removed]",
      "text/latex": [
       "$$\\left [ {\\left|0\\right\\rangle }, \\quad {\\left|1\\right\\rangle }, \\quad {\\left|1\\right\\rangle }, \\quad {\\left|1\\right\\rangle }, \\quad {\\left|0\\right\\rangle }, \\quad {\\left|1\\right\\rangle }, \\quad {\\left|0\\right\\rangle }, \\quad {\\left|1\\right\\rangle }, \\quad {\\left|0\\right\\rangle }, \\quad {\\left|1\\right\\rangle }\\right ]$$"
      ],
      "text/plain": [
       "[❘0⟩, ❘1⟩, ❘1⟩, ❘1⟩, ❘0⟩, ❘1⟩, ❘0⟩, ❘1⟩, ❘0⟩, ❘1⟩]"
      ]
     },
     "execution_count": 10,
     "metadata": {},
     "output_type": "execute_result"
    }
   ],
   "source": [
    "res = []\n",
    "for i in range(10):\n",
    "    res.append(measure_partial_oneshot(hq, [0]))\n",
    "res    "
   ]
  },
  {
   "cell_type": "code",
   "execution_count": 10,
   "metadata": {},
   "outputs": [],
   "source": [
    "from sympy.physics.quantum.grover import OracleGate, WGate\n",
    "from sympy.physics.quantum.grover import grover_iteration, apply_grover"
   ]
  },
  {
   "cell_type": "code",
   "execution_count": 11,
   "metadata": {},
   "outputs": [],
   "source": [
    "# match function for target |01>\n",
    "n = 2    # num of qubits, can be changed elsewhere\n",
    "f = lambda basis: basis == IntQubit(Qubit('01'))\n",
    "O = OracleGate(n, f)  # Oracle operator\n",
    "W = WGate(n)"
   ]
  },
  {
   "cell_type": "code",
   "execution_count": 12,
   "metadata": {},
   "outputs": [
    {
     "data": {
      "image/png": "[encoded data removed]",
      "text/latex": [
       "$$\\frac{1}{2} \\left({\\left|0\\right\\rangle } + {\\left|1\\right\\rangle } + {\\left|2\\right\\rangle } + {\\left|3\\right\\rangle }\\right)$$"
      ],
      "text/plain": [
       "❘0⟩ + ❘1⟩ + ❘2⟩ + ❘3⟩\n",
       "─────────────────────\n",
       "          2          "
      ]
     },
     "execution_count": 12,
     "metadata": {},
     "output_type": "execute_result"
    }
   ],
   "source": [
    "qs = IntQubit(Qubit('00'))  # initial qubits\n",
    "psi0 = H(1)*H(0)*qs            # Uniform init state\n",
    "psi0 = qapply(psi0)\n",
    "simplify(psi0)"
   ]
  },
  {
   "cell_type": "code",
   "execution_count": 13,
   "metadata": {},
   "outputs": [
    {
     "data": {
      "image/png": "[encoded data removed]",
      "text/latex": [
       "$$\\frac{1}{2} \\left({\\left|0\\right\\rangle } - {\\left|1\\right\\rangle } + {\\left|2\\right\\rangle } + {\\left|3\\right\\rangle }\\right)$$"
      ],
      "text/plain": [
       "❘0⟩ - ❘1⟩ + ❘2⟩ + ❘3⟩\n",
       "─────────────────────\n",
       "          2          "
      ]
     },
     "execution_count": 13,
     "metadata": {},
     "output_type": "execute_result"
    }
   ],
   "source": [
    "psi1 = qapply(O*psi0)  # 1st step, reverse target amplitude\n",
    "simplify(psi1)"
   ]
  },
  {
   "cell_type": "code",
   "execution_count": 14,
   "metadata": {},
   "outputs": [
    {
     "data": {
      "image/png": "[encoded data removed]",
      "text/latex": [
       "$${\\left|1\\right\\rangle }$$"
      ],
      "text/plain": [
       "❘1⟩"
      ]
     },
     "execution_count": 14,
     "metadata": {},
     "output_type": "execute_result"
    }
   ],
   "source": [
    "psi2 = qapply(W*psi1)  # 2st step, apply W gate\n",
    "psi2"
   ]
  },
  {
   "cell_type": "code",
   "execution_count": 15,
   "metadata": {},
   "outputs": [
    {
     "data": {
      "image/png": "[encoded data removed]",
      "text/latex": [
       "$${\\left|1\\right\\rangle }$$"
      ],
      "text/plain": [
       "❘1⟩"
      ]
     },
     "execution_count": 15,
     "metadata": {},
     "output_type": "execute_result"
    }
   ],
   "source": [
    "qapply(apply_grover(f, n)) # one step"
   ]
  },
  {
   "cell_type": "code",
   "execution_count": 16,
   "metadata": {},
   "outputs": [],
   "source": [
    "n = 3    # num of qubits\n",
    "f = lambda basis: basis == IntQubit(Qubit('001'))\n",
    "O = OracleGate(n, f)  # Oracle operator\n",
    "W = WGate(n)"
   ]
  },
  {
   "cell_type": "code",
   "execution_count": 17,
   "metadata": {},
   "outputs": [
    {
     "data": {
      "image/png": "[encoded data removed]",
      "text/latex": [
       "$${\\left|0\\right\\rangle } + {\\left|1\\right\\rangle } + {\\left|2\\right\\rangle } + {\\left|3\\right\\rangle } + {\\left|4\\right\\rangle } + {\\left|5\\right\\rangle } + {\\left|6\\right\\rangle } + {\\left|7\\right\\rangle }$$"
      ],
      "text/plain": [
       "❘0⟩ + ❘1⟩ + ❘2⟩ + ❘3⟩ + ❘4⟩ + ❘5⟩ + ❘6⟩ + ❘7⟩"
      ]
     },
     "execution_count": 17,
     "metadata": {},
     "output_type": "execute_result"
    }
   ],
   "source": [
    "c = sqrt(2)/4  # cancel factor\n",
    "qs = IntQubit(Qubit('000'))\n",
    "psi0 = H(2)*H(1)*H(0)*qs\n",
    "psi0 = qapply(psi0)\n",
    "simplify(psi0/c)"
   ]
  },
  {
   "cell_type": "code",
   "execution_count": 18,
   "metadata": {},
   "outputs": [
    {
     "data": {
      "image/png": "[encoded data removed]",
      "text/latex": [
       "$${\\left|0\\right\\rangle } - {\\left|1\\right\\rangle } + {\\left|2\\right\\rangle } + {\\left|3\\right\\rangle } + {\\left|4\\right\\rangle } + {\\left|5\\right\\rangle } + {\\left|6\\right\\rangle } + {\\left|7\\right\\rangle }$$"
      ],
      "text/plain": [
       "❘0⟩ - ❘1⟩ + ❘2⟩ + ❘3⟩ + ❘4⟩ + ❘5⟩ + ❘6⟩ + ❘7⟩"
      ]
     },
     "execution_count": 18,
     "metadata": {},
     "output_type": "execute_result"
    }
   ],
   "source": [
    "psi1 = qapply(O*psi0)  # 1st step, reverse target amplitude\n",
    "simplify(psi1/c)"
   ]
  },
  {
   "cell_type": "code",
   "execution_count": 19,
   "metadata": {},
   "outputs": [
    {
     "data": {
      "image/png": "[encoded data removed]",
      "text/latex": [
       "$$\\frac{1}{2} \\left({\\left|0\\right\\rangle } + 5 {\\left|1\\right\\rangle } + {\\left|2\\right\\rangle } + {\\left|3\\right\\rangle } + {\\left|4\\right\\rangle } + {\\left|5\\right\\rangle } + {\\left|6\\right\\rangle } + {\\left|7\\right\\rangle }\\right)$$"
      ],
      "text/plain": [
       "❘0⟩ + 5⋅❘1⟩ + ❘2⟩ + ❘3⟩ + ❘4⟩ + ❘5⟩ + ❘6⟩ + ❘7⟩\n",
       "───────────────────────────────────────────────\n",
       "                       2                       "
      ]
     },
     "execution_count": 19,
     "metadata": {},
     "output_type": "execute_result"
    }
   ],
   "source": [
    "psi2 = qapply(W*psi1)  # 2st step, apply W gate\n",
    "simplify(psi2/c)"
   ]
  },
  {
   "cell_type": "code",
   "execution_count": 20,
   "metadata": {},
   "outputs": [
    {
     "data": {
      "image/png": "[encoded data removed]",
      "text/latex": [
       "$$\\frac{1}{2} \\left({\\left|0\\right\\rangle } - 5 {\\left|1\\right\\rangle } + {\\left|2\\right\\rangle } + {\\left|3\\right\\rangle } + {\\left|4\\right\\rangle } + {\\left|5\\right\\rangle } + {\\left|6\\right\\rangle } + {\\left|7\\right\\rangle }\\right)$$"
      ],
      "text/plain": [
       "❘0⟩ - 5⋅❘1⟩ + ❘2⟩ + ❘3⟩ + ❘4⟩ + ❘5⟩ + ❘6⟩ + ❘7⟩\n",
       "───────────────────────────────────────────────\n",
       "                       2                       "
      ]
     },
     "execution_count": 20,
     "metadata": {},
     "output_type": "execute_result"
    }
   ],
   "source": [
    "psi1 = qapply(O*psi2)  # repeat 1st step\n",
    "simplify(psi1/c)"
   ]
  },
  {
   "cell_type": "code",
   "execution_count": 21,
   "metadata": {},
   "outputs": [
    {
     "data": {
      "image/png": "[encoded data removed]",
      "text/latex": [
       "$$\\frac{1}{4} \\left(- {\\left|0\\right\\rangle } + 11 {\\left|1\\right\\rangle } - {\\left|2\\right\\rangle } - {\\left|3\\right\\rangle } - {\\left|4\\right\\rangle } - {\\left|5\\right\\rangle } - {\\left|6\\right\\rangle } - {\\left|7\\right\\rangle }\\right)$$"
      ],
      "text/plain": [
       "-❘0⟩ + 11⋅❘1⟩ - ❘2⟩ - ❘3⟩ - ❘4⟩ - ❘5⟩ - ❘6⟩ - ❘7⟩\n",
       "─────────────────────────────────────────────────\n",
       "                        4                        "
      ]
     },
     "execution_count": 21,
     "metadata": {},
     "output_type": "execute_result"
    }
   ],
   "source": [
    "psi2 = qapply(W*psi1)  # repeat 2nd step, apply W gate\n",
    "simplify(psi2/c)"
   ]
  },
  {
   "cell_type": "code",
   "execution_count": 22,
   "metadata": {},
   "outputs": [
    {
     "data": {
      "image/png": "[encoded data removed]",
      "text/latex": [
       "$$\\frac{1}{2} \\left({\\left|0\\right\\rangle } + 5 {\\left|1\\right\\rangle } + {\\left|2\\right\\rangle } + {\\left|3\\right\\rangle } + {\\left|4\\right\\rangle } + {\\left|5\\right\\rangle } + {\\left|6\\right\\rangle } + {\\left|7\\right\\rangle }\\right)$$"
      ],
      "text/plain": [
       "❘0⟩ + 5⋅❘1⟩ + ❘2⟩ + ❘3⟩ + ❘4⟩ + ❘5⟩ + ❘6⟩ + ❘7⟩\n",
       "───────────────────────────────────────────────\n",
       "                       2                       "
      ]
     },
     "execution_count": 22,
     "metadata": {},
     "output_type": "execute_result"
    }
   ],
   "source": [
    "psi1 = qapply(grover_iteration(psi0, O))  # one iteration\n",
    "simplify(psi1/c)"
   ]
  },
  {
   "cell_type": "code",
   "execution_count": 23,
   "metadata": {},
   "outputs": [
    {
     "data": {
      "image/png": "[encoded data removed]",
      "text/latex": [
       "$$\\frac{1}{4} \\left(- {\\left|0\\right\\rangle } + 11 {\\left|1\\right\\rangle } - {\\left|2\\right\\rangle } - {\\left|3\\right\\rangle } - {\\left|4\\right\\rangle } - {\\left|5\\right\\rangle } - {\\left|6\\right\\rangle } - {\\left|7\\right\\rangle }\\right)$$"
      ],
      "text/plain": [
       "-❘0⟩ + 11⋅❘1⟩ - ❘2⟩ - ❘3⟩ - ❘4⟩ - ❘5⟩ - ❘6⟩ - ❘7⟩\n",
       "─────────────────────────────────────────────────\n",
       "                        4                        "
      ]
     },
     "execution_count": 23,
     "metadata": {},
     "output_type": "execute_result"
    }
   ],
   "source": [
    "psi2 = qapply(grover_iteration(psi1, O))  # anotner one\n",
    "simplify(psi2/c)"
   ]
  },
  {
   "cell_type": "code",
   "execution_count": 24,
   "metadata": {},
   "outputs": [
    {
     "data": {
      "image/png": "[encoded data removed]",
      "text/latex": [
       "$$\\frac{1}{4} \\left(- {\\left|0\\right\\rangle } + 11 {\\left|1\\right\\rangle } - {\\left|2\\right\\rangle } - {\\left|3\\right\\rangle } - {\\left|4\\right\\rangle } - {\\left|5\\right\\rangle } - {\\left|6\\right\\rangle } - {\\left|7\\right\\rangle }\\right)$$"
      ],
      "text/plain": [
       "-❘0⟩ + 11⋅❘1⟩ - ❘2⟩ - ❘3⟩ - ❘4⟩ - ❘5⟩ - ❘6⟩ - ❘7⟩\n",
       "─────────────────────────────────────────────────\n",
       "                        4                        "
      ]
     },
     "execution_count": 24,
     "metadata": {},
     "output_type": "execute_result"
    }
   ],
   "source": [
    "sol = qapply(apply_grover(f, n))  # fully automatic\n",
    "simplify(sol/c)"
   ]
  },
  {
   "cell_type": "code",
   "execution_count": null,
   "metadata": {},
   "outputs": [],
   "source": []
  }
 ],
 "metadata": {
  "kernelspec": {
   "display_name": "Python 3",
   "language": "python",
   "name": "python3"
  },
  "language_info": {
   "codemirror_mode": {
    "name": "ipython",
    "version": 3
   },
   "file_extension": ".py",
   "mimetype": "text/x-python",
   "name": "python",
   "nbconvert_exporter": "python",
   "pygments_lexer": "ipython3",
   "version": "3.7.0"
  }
 },
 "nbformat": 4,
 "nbformat_minor": 2
}
