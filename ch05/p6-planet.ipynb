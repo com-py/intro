{
 "cells": [
  {
   "cell_type": "markdown",
   "metadata": {},
   "source": [
    "## <span style=\"color:blue\">Introduction to computation in physical sciences</span>\n",
    "### J Wang and A Wang, [github.com/com-py/intro](https://github.com/com-py/intro) \n",
    "### Ch05, `p6-planet`, Planet motion"
   ]
  },
  {
   "cell_type": "code",
   "execution_count": 1,
   "metadata": {},
   "outputs": [],
   "source": [
    "import matplotlib.pyplot as plt\n",
    "import numpy as np\n",
    "%matplotlib notebook"
   ]
  },
  {
   "cell_type": "code",
   "execution_count": 2,
   "metadata": {},
   "outputs": [],
   "source": [
    "GM = 4*np.pi**2\n",
    "r = np.array([1.0, 0.0])\n",
    "v = np.array([0.0, 2*np.pi])\n",
    "dt = 0.01\n",
    "t = 0.0\n",
    "rlist = []"
   ]
  },
  {
   "cell_type": "code",
   "execution_count": 3,
   "metadata": {},
   "outputs": [],
   "source": [
    "while t< 5.0:\n",
    "    rlist.append(r)\n",
    "    r = r + v*dt\n",
    "    rmag = np.sqrt(r[0]**2 + r[1]**2)\n",
    "    a = - GM * r/rmag**3\n",
    "    v = v + a*dt\n",
    "    t = t + dt"
   ]
  },
  {
   "cell_type": "code",
   "execution_count": 4,
   "metadata": {},
   "outputs": [
    {
     "data": {
      "image/png": "[encoded data removed]",
      "text/plain": [
       "<Figure size 432x288 with 1 Axes>"
      ]
     },
     "metadata": {
      "needs_background": "light"
     },
     "output_type": "display_data"
    }
   ],
   "source": [
    "rlist = np.array(rlist)\n",
    "\n",
    "ax = plt.subplot(111, aspect='equal')   # equal aspect ratio\n",
    "ax.plot(rlist[:,0], rlist[:,1])\n",
    "plt.xlabel('x (AU)')\n",
    "plt.ylabel('y (AU)')    \n",
    "plt.show()"
   ]
  },
  {
   "cell_type": "code",
   "execution_count": null,
   "metadata": {},
   "outputs": [],
   "source": []
  }
 ],
 "metadata": {
  "kernelspec": {
   "display_name": "Python 3",
   "language": "python",
   "name": "python3"
  },
  "language_info": {
   "codemirror_mode": {
    "name": "ipython",
    "version": 3
   },
   "file_extension": ".py",
   "mimetype": "text/x-python",
   "name": "python",
   "nbconvert_exporter": "python",
   "pygments_lexer": "ipython3",
   "version": "3.7.0"
  }
 },
 "nbformat": 4,
 "nbformat_minor": 2
}
