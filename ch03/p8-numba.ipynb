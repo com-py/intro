{
 "cells": [
  {
   "cell_type": "code",
   "execution_count": 1,
   "metadata": {},
   "outputs": [],
   "source": [
    "import numpy as np, time\n",
    "from numba import jit"
   ]
  },
  {
   "cell_type": "code",
   "execution_count": 2,
   "metadata": {},
   "outputs": [],
   "source": [
    "@jit                        # optimization\n",
    "def calc(u0, u1):\n",
    "    u2 = - u0     \n",
    "    for n in range(1, N-1):\n",
    "        u2[n] += u1[n-1] + u1[n+1]      # left, right \n",
    "    return u2"
   ]
  },
  {
   "cell_type": "code",
   "execution_count": 3,
   "metadata": {},
   "outputs": [],
   "source": [
    "N = 5000           # initialize\n",
    "u0 = np.random.random(N)\n",
    "u1 = 0.9*u0"
   ]
  },
  {
   "cell_type": "code",
   "execution_count": 4,
   "metadata": {},
   "outputs": [
    {
     "name": "stdout",
     "output_type": "stream",
     "text": [
      "1.6695732999999962\n"
     ]
    }
   ],
   "source": [
    "# run\n",
    "tc = time.perf_counter()\n",
    "for i in range(2000):\n",
    "    u2 = calc(u0, u1)\n",
    "    u0, u1 = u1, u2 \n",
    "    \n",
    "tc = time.perf_counter() - tc\n",
    "print(tc)"
   ]
  },
  {
   "cell_type": "code",
   "execution_count": null,
   "metadata": {},
   "outputs": [],
   "source": []
  }
 ],
 "metadata": {
  "kernelspec": {
   "display_name": "Python 3",
   "language": "python",
   "name": "python3"
  },
  "language_info": {
   "codemirror_mode": {
    "name": "ipython",
    "version": 3
   },
   "file_extension": ".py",
   "mimetype": "text/x-python",
   "name": "python",
   "nbconvert_exporter": "python",
   "pygments_lexer": "ipython3",
   "version": "3.7.0"
  }
 },
 "nbformat": 4,
 "nbformat_minor": 2
}
