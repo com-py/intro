{
 "cells": [
  {
   "cell_type": "markdown",
   "metadata": {},
   "source": [
    "## <span style=\"color:blue\">Introduction to computation in physical sciences</span>\n",
    "### J Wang and A Wang, [github.com/com-py/intro](https://github.com/com-py/intro) \n",
    "### Ch03, `p5-sympy`, Sympy library"
   ]
  },
  {
   "cell_type": "code",
   "execution_count": 1,
   "metadata": {},
   "outputs": [],
   "source": [
    "from sympy import *\n",
    "init_printing()  # pretty print math symbols"
   ]
  },
  {
   "cell_type": "markdown",
   "metadata": {},
   "source": [
    "Constants"
   ]
  },
  {
   "cell_type": "code",
   "execution_count": 2,
   "metadata": {},
   "outputs": [
    {
     "data": {
      "image/png": "[encoded data removed]",
      "text/latex": [
       "$$\\left ( \\pi, \\quad e, \\quad i, \\quad \\infty\\right )$$"
      ],
      "text/plain": [
       "(π, ℯ, ⅈ, ∞)"
      ]
     },
     "execution_count": 2,
     "metadata": {},
     "output_type": "execute_result"
    }
   ],
   "source": [
    "pi, E, I, oo"
   ]
  },
  {
   "cell_type": "markdown",
   "metadata": {},
   "source": [
    "Basic symbolic algebra and calculus"
   ]
  },
  {
   "cell_type": "code",
   "execution_count": 3,
   "metadata": {},
   "outputs": [
    {
     "data": {
      "image/png": "[encoded data removed]",
      "text/latex": [
       "$$a x^{2} + b x + c$$"
      ],
      "text/plain": [
       "   2          \n",
       "a⋅x  + b⋅x + c"
      ]
     },
     "execution_count": 3,
     "metadata": {},
     "output_type": "execute_result"
    }
   ],
   "source": [
    "x, a, b, c = symbols('x a b c')\n",
    "y = a*x*x + b*x + c\n",
    "y"
   ]
  },
  {
   "cell_type": "code",
   "execution_count": 4,
   "metadata": {},
   "outputs": [
    {
     "data": {
      "image/png": "[encoded data removed]",
      "text/latex": [
       "$$\\frac{\\partial}{\\partial x}\\left(a x^{2} + b x + c\\right)$$"
      ],
      "text/plain": [
       "∂ ⎛   2          ⎞\n",
       "──⎝a⋅x  + b⋅x + c⎠\n",
       "∂x                "
      ]
     },
     "execution_count": 4,
     "metadata": {},
     "output_type": "execute_result"
    }
   ],
   "source": [
    "dydx = Derivative(y,x)\n",
    "dydx"
   ]
  },
  {
   "cell_type": "code",
   "execution_count": 5,
   "metadata": {},
   "outputs": [
    {
     "data": {
      "image/png": "[encoded data removed]",
      "text/latex": [
       "$$\\left ( 2 a x + b, \\quad 2 a x + b\\right )$$"
      ],
      "text/plain": [
       "(2⋅a⋅x + b, 2⋅a⋅x + b)"
      ]
     },
     "execution_count": 5,
     "metadata": {},
     "output_type": "execute_result"
    }
   ],
   "source": [
    "dydx.doit(), y.diff(x)"
   ]
  },
  {
   "cell_type": "code",
   "execution_count": 6,
   "metadata": {},
   "outputs": [
    {
     "data": {
      "image/png": "[encoded data removed]",
      "text/latex": [
       "$$\\frac{a x^{3}}{3} + \\frac{b x^{2}}{2} + c x$$"
      ],
      "text/plain": [
       "   3      2      \n",
       "a⋅x    b⋅x       \n",
       "──── + ──── + c⋅x\n",
       " 3      2        "
      ]
     },
     "execution_count": 6,
     "metadata": {},
     "output_type": "execute_result"
    }
   ],
   "source": [
    "integrate(y, x)"
   ]
  },
  {
   "cell_type": "code",
   "execution_count": 7,
   "metadata": {},
   "outputs": [
    {
     "data": {
      "image/png": "[encoded data removed]",
      "text/latex": [
       "$$\\frac{a x^{3}}{3} + \\frac{b x^{2}}{2} + c x$$"
      ],
      "text/plain": [
       "   3      2      \n",
       "a⋅x    b⋅x       \n",
       "──── + ──── + c⋅x\n",
       " 3      2        "
      ]
     },
     "execution_count": 7,
     "metadata": {},
     "output_type": "execute_result"
    }
   ],
   "source": [
    "y.integrate(x)"
   ]
  },
  {
   "cell_type": "code",
   "execution_count": 8,
   "metadata": {},
   "outputs": [
    {
     "data": {
      "image/png": "[encoded data removed]",
      "text/latex": [
       "$$\\int \\left(a x^{2} + b x + c\\right)\\, dx$$"
      ],
      "text/plain": [
       "⌠                    \n",
       "⎮ ⎛   2          ⎞   \n",
       "⎮ ⎝a⋅x  + b⋅x + c⎠ dx\n",
       "⌡                    "
      ]
     },
     "execution_count": 8,
     "metadata": {},
     "output_type": "execute_result"
    }
   ],
   "source": [
    "Integral(y, x)"
   ]
  },
  {
   "cell_type": "code",
   "execution_count": 9,
   "metadata": {},
   "outputs": [
    {
     "data": {
      "image/png": "[encoded data removed]",
      "text/latex": [
       "$$\\frac{a x^{3}}{3} + \\frac{b x^{2}}{2} + c x$$"
      ],
      "text/plain": [
       "   3      2      \n",
       "a⋅x    b⋅x       \n",
       "──── + ──── + c⋅x\n",
       " 3      2        "
      ]
     },
     "execution_count": 9,
     "metadata": {},
     "output_type": "execute_result"
    }
   ],
   "source": [
    "Integral(y, x).doit()"
   ]
  },
  {
   "cell_type": "markdown",
   "metadata": {},
   "source": [
    "Algebraic solver "
   ]
  },
  {
   "cell_type": "code",
   "execution_count": 10,
   "metadata": {},
   "outputs": [
    {
     "data": {
      "image/png": "[encoded data removed]",
      "text/latex": [
       "$$\\left [ \\frac{1}{2 a} \\left(- b + \\sqrt{- 4 a c + b^{2}}\\right), \\quad - \\frac{1}{2 a} \\left(b + \\sqrt{- 4 a c + b^{2}}\\right)\\right ]$$"
      ],
      "text/plain": [
       "⎡        _____________   ⎛       _____________⎞ ⎤\n",
       "⎢       ╱           2    ⎜      ╱           2 ⎟ ⎥\n",
       "⎢-b + ╲╱  -4⋅a⋅c + b    -⎝b + ╲╱  -4⋅a⋅c + b  ⎠ ⎥\n",
       "⎢─────────────────────, ────────────────────────⎥\n",
       "⎣         2⋅a                     2⋅a           ⎦"
      ]
     },
     "execution_count": 10,
     "metadata": {},
     "output_type": "execute_result"
    }
   ],
   "source": [
    "solve(y,x)"
   ]
  },
  {
   "cell_type": "code",
   "execution_count": 11,
   "metadata": {},
   "outputs": [
    {
     "data": {
      "image/png": "[encoded data removed]",
      "text/latex": [
       "$$\\left [ 1, \\quad - \\frac{1}{2} - \\frac{\\sqrt{3} i}{2}, \\quad - \\frac{1}{2} + \\frac{\\sqrt{3} i}{2}\\right ]$$"
      ],
      "text/plain": [
       "⎡     1   √3⋅ⅈ    1   √3⋅ⅈ⎤\n",
       "⎢1, - ─ - ────, - ─ + ────⎥\n",
       "⎣     2    2      2    2  ⎦"
      ]
     },
     "execution_count": 11,
     "metadata": {},
     "output_type": "execute_result"
    }
   ],
   "source": [
    "solve(x**3-1,x)"
   ]
  },
  {
   "cell_type": "code",
   "execution_count": 12,
   "metadata": {},
   "outputs": [
    {
     "data": {
      "image/png": "[encoded data removed]",
      "text/latex": [
       "$$- \\frac{1}{2} - \\frac{\\sqrt{3} i}{2}$$"
      ],
      "text/plain": [
       "  1   √3⋅ⅈ\n",
       "- ─ - ────\n",
       "  2    2  "
      ]
     },
     "execution_count": 12,
     "metadata": {},
     "output_type": "execute_result"
    }
   ],
   "source": [
    "expand(E**(4*pi*I/3), complex=True)"
   ]
  },
  {
   "cell_type": "markdown",
   "metadata": {},
   "source": [
    "Differential equation solver "
   ]
  },
  {
   "cell_type": "code",
   "execution_count": 13,
   "metadata": {},
   "outputs": [
    {
     "data": {
      "image/png": "[encoded data removed]",
      "text/latex": [
       "$$f{\\left (x \\right )} = C_{1} e^{k x}$$"
      ],
      "text/plain": [
       "           k⋅x\n",
       "f(x) = C₁⋅ℯ   "
      ]
     },
     "execution_count": 13,
     "metadata": {},
     "output_type": "execute_result"
    }
   ],
   "source": [
    "f = Function('f')\n",
    "k = symbols('k')\n",
    "dsolve(diff(f(x),x)-k*f(x),f(x)) # diff(f(x),x)==f(x).diff(x)"
   ]
  },
  {
   "cell_type": "code",
   "execution_count": 14,
   "metadata": {},
   "outputs": [
    {
     "data": {
      "image/png": "[encoded data removed]",
      "text/latex": [
       "$$f{\\left (x \\right )} = C_{1} e^{k x}$$"
      ],
      "text/plain": [
       "           k⋅x\n",
       "f(x) = C₁⋅ℯ   "
      ]
     },
     "execution_count": 14,
     "metadata": {},
     "output_type": "execute_result"
    }
   ],
   "source": [
    "dsolve(Derivative(f(x),x)-k*f(x),f(x)) # diff(f(x),x)==f(x).diff(x)"
   ]
  },
  {
   "cell_type": "code",
   "execution_count": 15,
   "metadata": {},
   "outputs": [
    {
     "data": {
      "image/png": "[encoded data removed]",
      "text/latex": [
       "$$f{\\left (x \\right )} = C_{1} e^{- i k x} + C_{2} e^{i k x}$$"
      ],
      "text/plain": [
       "           -ⅈ⋅k⋅x       ⅈ⋅k⋅x\n",
       "f(x) = C₁⋅ℯ       + C₂⋅ℯ     "
      ]
     },
     "execution_count": 15,
     "metadata": {},
     "output_type": "execute_result"
    }
   ],
   "source": [
    "dsolve(diff(f(x),x,x)+k*k*f(x),f(x))"
   ]
  },
  {
   "cell_type": "markdown",
   "metadata": {},
   "source": [
    "Definite integrals"
   ]
  },
  {
   "cell_type": "code",
   "execution_count": 16,
   "metadata": {},
   "outputs": [
    {
     "data": {
      "image/png": "[encoded data removed]",
      "text/latex": [
       "$$\\pi$$"
      ],
      "text/plain": [
       "π"
      ]
     },
     "execution_count": 16,
     "metadata": {},
     "output_type": "execute_result"
    }
   ],
   "source": [
    "integrate(sin(x)**2/x**2,(x,-oo,oo))"
   ]
  },
  {
   "cell_type": "code",
   "execution_count": 17,
   "metadata": {},
   "outputs": [
    {
     "data": {
      "image/png": "[encoded data removed]",
      "text/latex": [
       "$$2$$"
      ],
      "text/plain": [
       "2"
      ]
     },
     "execution_count": 17,
     "metadata": {},
     "output_type": "execute_result"
    }
   ],
   "source": [
    "integrate(1/sqrt(x), (x,0,1))"
   ]
  },
  {
   "cell_type": "code",
   "execution_count": 18,
   "metadata": {},
   "outputs": [
    {
     "data": {
      "image/png": "[encoded data removed]",
      "text/latex": [
       "$$\\begin{cases} \\frac{\\pi}{2 a^{3}} & \\text{for}\\: \\left|{\\operatorname{periodic_{argument}}{\\left (\\frac{1}{\\operatorname{polar\\_lift}^{2}{\\left (a \\right )}},\\infty \\right )}}\\right| < \\pi \\\\\\int_{-\\infty}^{\\infty} \\frac{1}{\\left(a^{2} + x^{2}\\right)^{2}}\\, dx & \\text{otherwise} \\end{cases}$$"
      ],
      "text/plain": [
       "⎧       π              │                 ⎛      1          ⎞│    \n",
       "⎪      ────        for │periodic_argument⎜──────────────, ∞⎟│ < π\n",
       "⎪         3            │                 ⎜          2      ⎟│    \n",
       "⎪      2⋅a             │                 ⎝polar_lift (a)   ⎠│    \n",
       "⎪                                                                \n",
       "⎪∞                                                               \n",
       "⎪⌠                                                               \n",
       "⎨⎮      1                                                        \n",
       "⎪⎮  ────────── dx                    otherwise                   \n",
       "⎪⎮           2                                                   \n",
       "⎪⎮  ⎛ 2    2⎞                                                    \n",
       "⎪⎮  ⎝a  + x ⎠                                                    \n",
       "⎪⌡                                                               \n",
       "⎪-∞                                                              \n",
       "⎩                                                                "
      ]
     },
     "execution_count": 18,
     "metadata": {},
     "output_type": "execute_result"
    }
   ],
   "source": [
    "res = integrate(1/(x*x+a*a)**2,(x,-oo,oo))\n",
    "simplify(res)"
   ]
  },
  {
   "cell_type": "code",
   "execution_count": 19,
   "metadata": {},
   "outputs": [
    {
     "data": {
      "image/png": "[encoded data removed]",
      "text/latex": [
       "$$\\frac{\\pi}{2 a^{3}}$$"
      ],
      "text/plain": [
       " π  \n",
       "────\n",
       "   3\n",
       "2⋅a "
      ]
     },
     "execution_count": 19,
     "metadata": {},
     "output_type": "execute_result"
    }
   ],
   "source": [
    "a = symbols('a', positive=True)  # specify conditions to help simplify\n",
    "integrate(1/(x*x+a*a)**2,(x,-oo,oo))"
   ]
  },
  {
   "cell_type": "code",
   "execution_count": 20,
   "metadata": {},
   "outputs": [
    {
     "data": {
      "image/png": "[encoded data removed]",
      "text/latex": [
       "$$\\int_{0}^{\\infty} \\frac{x^{0.5}}{e^{x} - 1}\\, dx$$"
      ],
      "text/plain": [
       "∞          \n",
       "⌠          \n",
       "⎮   0.5    \n",
       "⎮  x       \n",
       "⎮ ────── dx\n",
       "⎮  x       \n",
       "⎮ ℯ  - 1   \n",
       "⌡          \n",
       "0          "
      ]
     },
     "execution_count": 20,
     "metadata": {},
     "output_type": "execute_result"
    }
   ],
   "source": [
    "p=0.5\n",
    "res = Integral(x**p/(exp(x)-1),(x,0,oo))\n",
    "res"
   ]
  },
  {
   "cell_type": "code",
   "execution_count": 21,
   "metadata": {},
   "outputs": [
    {
     "data": {
      "image/png": "[encoded data removed]",
      "text/latex": [
       "$$2.31515737339412$$"
      ],
      "text/plain": [
       "2.31515737339412"
      ]
     },
     "execution_count": 21,
     "metadata": {},
     "output_type": "execute_result"
    }
   ],
   "source": [
    "N(res)   # numerical eval"
   ]
  },
  {
   "cell_type": "code",
   "execution_count": 22,
   "metadata": {},
   "outputs": [
    {
     "data": {
      "image/png": "[encoded data removed]",
      "text/latex": [
       "$$2.315157373$$"
      ],
      "text/plain": [
       "2.315157373"
      ]
     },
     "execution_count": 22,
     "metadata": {},
     "output_type": "execute_result"
    }
   ],
   "source": [
    "res.n(10)"
   ]
  },
  {
   "cell_type": "code",
   "execution_count": 23,
   "metadata": {},
   "outputs": [
    {
     "data": {
      "image/png": "[encoded data removed]",
      "text/latex": [
       "$$\\frac{1}{2} \\Gamma{\\left(\\frac{n}{2} + \\frac{1}{2} \\right)}$$"
      ],
      "text/plain": [
       " ⎛n   1⎞\n",
       "Γ⎜─ + ─⎟\n",
       " ⎝2   2⎠\n",
       "────────\n",
       "   2    "
      ]
     },
     "execution_count": 23,
     "metadata": {},
     "output_type": "execute_result"
    }
   ],
   "source": [
    "n = symbols('n', integer=True, positive=True)\n",
    "res = integrate(exp(-x*x) *x**n,(x,0,oo))\n",
    "res"
   ]
  },
  {
   "cell_type": "code",
   "execution_count": 24,
   "metadata": {},
   "outputs": [
    {
     "data": {
      "image/png": "[encoded data removed]",
      "text/latex": [
       "$$\\left ( \\frac{\\sqrt{\\pi}}{4}, \\quad 0.443113462726379\\right )$$"
      ],
      "text/plain": [
       "⎛√π                   ⎞\n",
       "⎜──, 0.443113462726379⎟\n",
       "⎝4                    ⎠"
      ]
     },
     "execution_count": 24,
     "metadata": {},
     "output_type": "execute_result"
    }
   ],
   "source": [
    "res.subs(n,2), N(res.subs(n,2))"
   ]
  },
  {
   "cell_type": "markdown",
   "metadata": {},
   "source": [
    "Expansion coefficients, infinite potential well, $\\psi=x(a-x)$"
   ]
  },
  {
   "cell_type": "code",
   "execution_count": 25,
   "metadata": {},
   "outputs": [
    {
     "data": {
      "image/png": "[encoded data removed]",
      "text/latex": [
       "$$\\int_{0}^{a} x \\left(a - x\\right) \\sin{\\left (\\frac{\\pi x}{a} n \\right )}\\, dx$$"
      ],
      "text/plain": [
       "a                        \n",
       "⌠                        \n",
       "⎮              ⎛π⋅n⋅x⎞   \n",
       "⎮ x⋅(a - x)⋅sin⎜─────⎟ dx\n",
       "⎮              ⎝  a  ⎠   \n",
       "⌡                        \n",
       "0                        "
      ]
     },
     "execution_count": 25,
     "metadata": {},
     "output_type": "execute_result"
    }
   ],
   "source": [
    "psi = lambda x: x*(a-x)\n",
    "psin = lambda n, x: sqrt(2/a)*sin(n*pi*x/a)\n",
    "a = symbols('a', positive=True)\n",
    "A = Integral(psi(x)**2,(x,0,a))  # norm\n",
    "cn = Integral(psi(x)*psin(n, x),(x,0,a))/sqrt(A)\n",
    "cn"
   ]
  },
  {
   "cell_type": "code",
   "execution_count": 26,
   "metadata": {},
   "outputs": [
    {
     "data": {
      "image/png": "[encoded data removed]",
      "text/latex": [
       "$$- \\frac{2 \\left(-1\\right)^{n} a^{3}}{\\pi^{3} n^{3}} + \\frac{2 a^{3}}{\\pi^{3} n^{3}}$$"
      ],
      "text/plain": [
       "        n  3       3\n",
       "  2⋅(-1) ⋅a     2⋅a \n",
       "- ────────── + ─────\n",
       "     3  3       3  3\n",
       "    π ⋅n       π ⋅n "
      ]
     },
     "execution_count": 26,
     "metadata": {},
     "output_type": "execute_result"
    }
   ],
   "source": [
    "cn = cn.doit()\n",
    "cn"
   ]
  },
  {
   "cell_type": "code",
   "execution_count": 27,
   "metadata": {},
   "outputs": [
    {
     "data": {
      "image/png": "[encoded data removed]",
      "text/latex": [
       "$$\\frac{2 a^{3}}{\\pi^{3} n^{3}} \\left(- \\left(-1\\right)^{n} + 1\\right)$$"
      ],
      "text/plain": [
       "   3 ⎛      n    ⎞\n",
       "2⋅a ⋅⎝- (-1)  + 1⎠\n",
       "──────────────────\n",
       "       3  3       \n",
       "      π ⋅n        "
      ]
     },
     "execution_count": 27,
     "metadata": {},
     "output_type": "execute_result"
    }
   ],
   "source": [
    "simplify(cn)"
   ]
  },
  {
   "cell_type": "code",
   "execution_count": null,
   "metadata": {},
   "outputs": [],
   "source": [
    "res = Sum(cn**2, (n,1,oo))\n",
    "res"
   ]
  },
  {
   "cell_type": "code",
   "execution_count": null,
   "metadata": {},
   "outputs": [],
   "source": [
    "res.doit()"
   ]
  },
  {
   "cell_type": "code",
   "execution_count": null,
   "metadata": {},
   "outputs": [],
   "source": [
    "res.doit().n()"
   ]
  },
  {
   "cell_type": "markdown",
   "metadata": {},
   "source": [
    "Special functions"
   ]
  },
  {
   "cell_type": "code",
   "execution_count": 28,
   "metadata": {},
   "outputs": [
    {
     "data": {
      "image/png": "[encoded data removed]",
      "text/latex": [
       "$$\\left ( \\operatorname{erf}{\\left (x \\right )}, \\quad \\Gamma{\\left(x \\right)}, \\quad Ai\\left(x\\right), \\quad j_{n}\\left(x\\right)\\right )$$"
      ],
      "text/plain": [
       "(erf(x), Γ(x), airyai(x), jn(n, x))"
      ]
     },
     "execution_count": 28,
     "metadata": {},
     "output_type": "execute_result"
    }
   ],
   "source": [
    "erf(x), gamma(x), airyai(x), jn(n,x)"
   ]
  },
  {
   "cell_type": "code",
   "execution_count": 29,
   "metadata": {},
   "outputs": [
    {
     "data": {
      "text/plain": [
       "<Figure size 640x480 with 1 Axes>"
      ]
     },
     "metadata": {},
     "output_type": "display_data"
    },
    {
     "data": {
      "text/plain": [
       "<sympy.plotting.plot.Plot at 0x27d58312ef0>"
      ]
     },
     "execution_count": 29,
     "metadata": {},
     "output_type": "execute_result"
    }
   ],
   "source": [
    "plot(airyai(x)) # may need to run twice"
   ]
  },
  {
   "cell_type": "code",
   "execution_count": 30,
   "metadata": {},
   "outputs": [
    {
     "data": {
      "image/png": "[encoded data removed]",
      "text/latex": [
       "$$\\frac{\\sqrt{\\pi}}{2} \\operatorname{erf}{\\left (a \\right )}$$"
      ],
      "text/plain": [
       "√π⋅erf(a)\n",
       "─────────\n",
       "    2    "
      ]
     },
     "execution_count": 30,
     "metadata": {},
     "output_type": "execute_result"
    }
   ],
   "source": [
    "integrate(exp(-x*x),(x,0,a))  # error func"
   ]
  },
  {
   "cell_type": "code",
   "execution_count": 31,
   "metadata": {},
   "outputs": [
    {
     "data": {
      "image/png": "[encoded data removed]",
      "text/latex": [
       "$$f{\\left (a \\right )}$$"
      ],
      "text/plain": [
       "f(a)"
      ]
     },
     "execution_count": 31,
     "metadata": {},
     "output_type": "execute_result"
    }
   ],
   "source": [
    "integrate(f(x)*DiracDelta(x-a),(x,-oo,oo))"
   ]
  },
  {
   "cell_type": "code",
   "execution_count": 32,
   "metadata": {},
   "outputs": [
    {
     "data": {
      "image/png": "[encoded data removed]",
      "text/latex": [
       "$$\\left [ \\operatorname{LambertW}{\\left (x \\right )}\\right ]$$"
      ],
      "text/plain": [
       "[LambertW(x)]"
      ]
     },
     "execution_count": 32,
     "metadata": {},
     "output_type": "execute_result"
    }
   ],
   "source": [
    "W = symbols('W')\n",
    "solve(W*exp(W)-x, W)"
   ]
  },
  {
   "cell_type": "markdown",
   "metadata": {},
   "source": [
    "Blackbody radiation, Wien's law: $x^3/(\\exp(x)-1), x=h\\nu/kT$"
   ]
  },
  {
   "cell_type": "code",
   "execution_count": 33,
   "metadata": {},
   "outputs": [
    {
     "data": {
      "image/png": "[encoded data removed]",
      "text/latex": [
       "$$\\frac{d}{d x}\\left(\\frac{x^{3}}{e^{x} - 1}\\right)$$"
      ],
      "text/plain": [
       "  ⎛   3  ⎞\n",
       "d ⎜  x   ⎟\n",
       "──⎜──────⎟\n",
       "dx⎜ x    ⎟\n",
       "  ⎝ℯ  - 1⎠"
      ]
     },
     "execution_count": 33,
     "metadata": {},
     "output_type": "execute_result"
    }
   ],
   "source": [
    "eqn = Derivative(x**3/(exp(x)-1),x)\n",
    "eqn"
   ]
  },
  {
   "cell_type": "code",
   "execution_count": 34,
   "metadata": {},
   "outputs": [
    {
     "data": {
      "image/png": "[encoded data removed]",
      "text/latex": [
       "$$\\left [ \\operatorname{LambertW}{\\left (- \\frac{3}{e^{3}} \\right )} + 3\\right ]$$"
      ],
      "text/plain": [
       "⎡        ⎛    -3⎞    ⎤\n",
       "⎣LambertW⎝-3⋅ℯ  ⎠ + 3⎦"
      ]
     },
     "execution_count": 34,
     "metadata": {},
     "output_type": "execute_result"
    }
   ],
   "source": [
    "res = solve(eqn.doit(),x)  # freq, x = beta h nu\n",
    "res"
   ]
  },
  {
   "cell_type": "code",
   "execution_count": 35,
   "metadata": {},
   "outputs": [
    {
     "data": {
      "image/png": "[encoded data removed]",
      "text/latex": [
       "$$\\left [ \\operatorname{LambertW}{\\left (- \\frac{3}{e^{3}} \\right )} + 3\\right ]$$"
      ],
      "text/plain": [
       "⎡        ⎛    -3⎞    ⎤\n",
       "⎣LambertW⎝-3⋅ℯ  ⎠ + 3⎦"
      ]
     },
     "execution_count": 35,
     "metadata": {},
     "output_type": "execute_result"
    }
   ],
   "source": [
    "res = solve((x-3)*exp(x)+3,x)  # freq, x = beta h nu\n",
    "res"
   ]
  },
  {
   "cell_type": "code",
   "execution_count": 36,
   "metadata": {},
   "outputs": [
    {
     "data": {
      "image/png": "[encoded data removed]",
      "text/latex": [
       "$$2.82143937212208$$"
      ],
      "text/plain": [
       "2.82143937212208"
      ]
     },
     "execution_count": 36,
     "metadata": {},
     "output_type": "execute_result"
    }
   ],
   "source": [
    "N(res[0])"
   ]
  },
  {
   "cell_type": "code",
   "execution_count": 37,
   "metadata": {},
   "outputs": [
    {
     "data": {
      "image/png": "[encoded data removed]",
      "text/latex": [
       "$$\\left ( \\left [ \\operatorname{LambertW}{\\left (- \\frac{5}{e^{5}} \\right )} + 5\\right ], \\quad 4.96511423174428\\right )$$"
      ],
      "text/plain": [
       "⎛⎡        ⎛    -5⎞    ⎤                  ⎞\n",
       "⎝⎣LambertW⎝-5⋅ℯ  ⎠ + 5⎦, 4.96511423174428⎠"
      ]
     },
     "execution_count": 37,
     "metadata": {},
     "output_type": "execute_result"
    }
   ],
   "source": [
    "lam = solve((x-5)*exp(x)+5,x)  # wavelength form, x = beta h c /lam\n",
    "lam, N(lam[0])"
   ]
  },
  {
   "cell_type": "markdown",
   "metadata": {},
   "source": [
    "Linear equations and eigenvalues"
   ]
  },
  {
   "cell_type": "code",
   "execution_count": 38,
   "metadata": {},
   "outputs": [
    {
     "data": {
      "image/png": "[encoded data removed]",
      "text/latex": [
       "$$\\left [ a_{1} x + a_{2} y - c_{1}, \\quad b_{1} x + b_{2} y - c_{2}\\right ]$$"
      ],
      "text/plain": [
       "[a₁⋅x + a₂⋅y - c₁, b₁⋅x + b₂⋅y - c₂]"
      ]
     },
     "execution_count": 38,
     "metadata": {},
     "output_type": "execute_result"
    }
   ],
   "source": [
    "x, y = symbols('x y')\n",
    "a1, a2 = symbols('a1 a2')\n",
    "b1, b2 = symbols('b1 b2')\n",
    "c1, c2 = symbols('c1 c2')\n",
    "eqns = [a1*x + a2*y-c1, \n",
    "        b1*x + b2*y-c2]\n",
    "eqns"
   ]
  },
  {
   "cell_type": "code",
   "execution_count": 39,
   "metadata": {},
   "outputs": [
    {
     "data": {
      "image/png": "[encoded data removed]",
      "text/latex": [
       "$$\\left \\{ x : \\frac{- a_{2} c_{2} + b_{2} c_{1}}{a_{1} b_{2} - a_{2} b_{1}}, \\quad y : \\frac{a_{1} c_{2} - b_{1} c_{1}}{a_{1} b_{2} - a_{2} b_{1}}\\right \\}$$"
      ],
      "text/plain": [
       "⎧   -a₂⋅c₂ + b₂⋅c₁     a₁⋅c₂ - b₁⋅c₁⎫\n",
       "⎨x: ──────────────, y: ─────────────⎬\n",
       "⎩   a₁⋅b₂ - a₂⋅b₁      a₁⋅b₂ - a₂⋅b₁⎭"
      ]
     },
     "execution_count": 39,
     "metadata": {},
     "output_type": "execute_result"
    }
   ],
   "source": [
    "res = solve(eqns, x, y)\n",
    "res"
   ]
  },
  {
   "cell_type": "code",
   "execution_count": 40,
   "metadata": {},
   "outputs": [
    {
     "data": {
      "image/png": "[encoded data removed]",
      "text/latex": [
       "$$\\left[\\begin{matrix}a_{1} & a_{2}\\\\b_{1} & b_{2}\\end{matrix}\\right]$$"
      ],
      "text/plain": [
       "⎡a₁  a₂⎤\n",
       "⎢      ⎥\n",
       "⎣b₁  b₂⎦"
      ]
     },
     "execution_count": 40,
     "metadata": {},
     "output_type": "execute_result"
    }
   ],
   "source": [
    "A = Matrix([[a1,a2],[b1,b2]])\n",
    "A"
   ]
  },
  {
   "cell_type": "code",
   "execution_count": 41,
   "metadata": {},
   "outputs": [
    {
     "data": {
      "image/png": "[encoded data removed]",
      "text/latex": [
       "$$\\left \\{ x : \\frac{- a_{2} c_{2} + b_{2} c_{1}}{a_{1} b_{2} - a_{2} b_{1}}, \\quad y : \\frac{a_{1} c_{2} - b_{1} c_{1}}{a_{1} b_{2} - a_{2} b_{1}}\\right \\}$$"
      ],
      "text/plain": [
       "⎧   -a₂⋅c₂ + b₂⋅c₁     a₁⋅c₂ - b₁⋅c₁⎫\n",
       "⎨x: ──────────────, y: ─────────────⎬\n",
       "⎩   a₁⋅b₂ - a₂⋅b₁      a₁⋅b₂ - a₂⋅b₁⎭"
      ]
     },
     "execution_count": 41,
     "metadata": {},
     "output_type": "execute_result"
    }
   ],
   "source": [
    "solve(A*Matrix([x, y])-Matrix([c1, c2]), Matrix([x, y]))"
   ]
  },
  {
   "cell_type": "code",
   "execution_count": 42,
   "metadata": {},
   "outputs": [
    {
     "data": {
      "image/png": "[encoded data removed]",
      "text/latex": [
       "$$\\left[\\begin{matrix}a_{1} & a_{2}\\\\a_{2} & a_{1}\\end{matrix}\\right]$$"
      ],
      "text/plain": [
       "⎡a₁  a₂⎤\n",
       "⎢      ⎥\n",
       "⎣a₂  a₁⎦"
      ]
     },
     "execution_count": 42,
     "metadata": {},
     "output_type": "execute_result"
    }
   ],
   "source": [
    "B = A.subs([[b1,a2], [b2,a1]])   # symmetric matrix\n",
    "B"
   ]
  },
  {
   "cell_type": "code",
   "execution_count": 43,
   "metadata": {},
   "outputs": [
    {
     "data": {
      "image/png": "[encoded data removed]",
      "text/latex": [
       "$$\\left [ \\left ( a_{1} - a_{2}, \\quad 1, \\quad \\left [ \\left[\\begin{matrix}-1\\\\1\\end{matrix}\\right]\\right ]\\right ), \\quad \\left ( a_{1} + a_{2}, \\quad 1, \\quad \\left [ \\left[\\begin{matrix}1\\\\1\\end{matrix}\\right]\\right ]\\right )\\right ]$$"
      ],
      "text/plain": [
       "⎡⎛            ⎡⎡-1⎤⎤⎞  ⎛            ⎡⎡1⎤⎤⎞⎤\n",
       "⎢⎜a₁ - a₂, 1, ⎢⎢  ⎥⎥⎟, ⎜a₁ + a₂, 1, ⎢⎢ ⎥⎥⎟⎥\n",
       "⎣⎝            ⎣⎣1 ⎦⎦⎠  ⎝            ⎣⎣1⎦⎦⎠⎦"
      ]
     },
     "execution_count": 43,
     "metadata": {},
     "output_type": "execute_result"
    }
   ],
   "source": [
    "B.eigenvects()"
   ]
  },
  {
   "cell_type": "markdown",
   "metadata": {},
   "source": [
    "Physics module: Quantum simple harmonic oscillator"
   ]
  },
  {
   "cell_type": "code",
   "execution_count": 44,
   "metadata": {},
   "outputs": [
    {
     "data": {
      "image/png": "[encoded data removed]",
      "text/latex": [
       "$$\\left ( \\hbar \\omega \\left(n + \\frac{1}{2}\\right), \\quad \\frac{\\sqrt[4]{m} \\sqrt[4]{\\omega}}{\\sqrt[4]{\\hbar} \\sqrt[4]{\\pi}} e^{- \\frac{m \\omega x^{2}}{2 \\hbar}}\\right )$$"
      ],
      "text/plain": [
       "⎛                                  2 ⎞\n",
       "⎜                            -m⋅ω⋅x  ⎟\n",
       "⎜                            ────────⎟\n",
       "⎜               4 ___ 4 ___    2⋅ℏ   ⎟\n",
       "⎜               ╲╱ m ⋅╲╱ ω ⋅ℯ        ⎟\n",
       "⎜ℏ⋅ω⋅(n + 1/2), ─────────────────────⎟\n",
       "⎜                    4 ___ 4 ___     ⎟\n",
       "⎝                    ╲╱ ℏ ⋅╲╱ π      ⎠"
      ]
     },
     "execution_count": 44,
     "metadata": {},
     "output_type": "execute_result"
    }
   ],
   "source": [
    "from sympy.physics.qho_1d import E_n, psi_n, hbar\n",
    "n = symbols('n', integer=True, positive=True)\n",
    "m, omega = symbols('m omega', positive=True)\n",
    "x, a = symbols('x a')\n",
    "E_n(n, omega), psi_n(0,x,m,omega)"
   ]
  },
  {
   "cell_type": "code",
   "execution_count": 45,
   "metadata": {},
   "outputs": [
    {
     "data": {
      "image/png": "[encoded data removed]",
      "text/latex": [
       "$$\\left [ - \\frac{\\sqrt{\\hbar}}{\\sqrt{m} \\sqrt{\\omega}}, \\quad \\frac{\\sqrt{\\hbar}}{\\sqrt{m} \\sqrt{\\omega}}\\right ]$$"
      ],
      "text/plain": [
       "⎡ -√ℏ     √ℏ ⎤\n",
       "⎢─────, ─────⎥\n",
       "⎣√m⋅√ω  √m⋅√ω⎦"
      ]
     },
     "execution_count": 45,
     "metadata": {},
     "output_type": "execute_result"
    }
   ],
   "source": [
    "V = m*omega**2 * x**2/2\n",
    "tp = solve(E_n(0, omega)-V, x)  # turning points\n",
    "tp"
   ]
  },
  {
   "cell_type": "code",
   "execution_count": 46,
   "metadata": {},
   "outputs": [
    {
     "data": {
      "image/png": "[encoded data removed]",
      "text/latex": [
       "$$\\frac{1}{2 \\sqrt{\\pi}} \\left(- \\sqrt{\\pi} \\operatorname{erf}{\\left (1 \\right )} + \\sqrt{\\pi}\\right)$$"
      ],
      "text/plain": [
       "-√π⋅erf(1) + √π\n",
       "───────────────\n",
       "      2⋅√π     "
      ]
     },
     "execution_count": 46,
     "metadata": {},
     "output_type": "execute_result"
    }
   ],
   "source": [
    "prob = Integral(psi_n(0,x,m,omega)**2, (x,tp[1],oo))\n",
    "res = prob.doit()\n",
    "res"
   ]
  },
  {
   "cell_type": "code",
   "execution_count": 47,
   "metadata": {},
   "outputs": [
    {
     "data": {
      "image/png": "[encoded data removed]",
      "text/latex": [
       "$$0.157299207050285$$"
      ],
      "text/plain": [
       "0.157299207050285"
      ]
     },
     "execution_count": 47,
     "metadata": {},
     "output_type": "execute_result"
    }
   ],
   "source": [
    "2*N(res)"
   ]
  },
  {
   "cell_type": "markdown",
   "metadata": {},
   "source": [
    "Physics module: Hydrogen atom"
   ]
  },
  {
   "cell_type": "code",
   "execution_count": 48,
   "metadata": {},
   "outputs": [
    {
     "data": {
      "image/png": "[encoded data removed]",
      "text/latex": [
       "$$- \\frac{Z^{2}}{2 n^{2}}$$"
      ],
      "text/plain": [
       "  2 \n",
       "-Z  \n",
       "────\n",
       "   2\n",
       "2⋅n "
      ]
     },
     "execution_count": 48,
     "metadata": {},
     "output_type": "execute_result"
    }
   ],
   "source": [
    "from sympy.physics.hydrogen import E_nl, R_nl\n",
    "n, l = symbols('n l', integer=True, positive=True)\n",
    "Z, r = symbols('Z r', positive=True)\n",
    "E_nl(n,Z)"
   ]
  },
  {
   "cell_type": "code",
   "execution_count": 49,
   "metadata": {},
   "outputs": [
    {
     "data": {
      "image/png": "[encoded data removed]",
      "text/latex": [
       "$$\\frac{\\sqrt{2}}{4} \\left(- r + 2\\right) e^{- \\frac{r}{2}}$$"
      ],
      "text/plain": [
       "             -r \n",
       "             ───\n",
       "              2 \n",
       "√2⋅(-r + 2)⋅ℯ   \n",
       "────────────────\n",
       "       4        "
      ]
     },
     "execution_count": 49,
     "metadata": {},
     "output_type": "execute_result"
    }
   ],
   "source": [
    "R_nl(2,0,r)"
   ]
  },
  {
   "cell_type": "code",
   "execution_count": 50,
   "metadata": {},
   "outputs": [
    {
     "data": {
      "image/png": "[encoded data removed]",
      "text/plain": [
       "<Figure size 432x288 with 1 Axes>"
      ]
     },
     "metadata": {
      "needs_background": "light"
     },
     "output_type": "display_data"
    },
    {
     "data": {
      "text/plain": [
       "<sympy.plotting.plot.Plot at 0x27d59903e10>"
      ]
     },
     "execution_count": 50,
     "metadata": {},
     "output_type": "execute_result"
    }
   ],
   "source": [
    "plot((r*R_nl(2,0,r))**2, (r,0,10))  # may have to run the cell again"
   ]
  },
  {
   "cell_type": "code",
   "execution_count": 51,
   "metadata": {},
   "outputs": [
    {
     "data": {
      "image/png": "[encoded data removed]",
      "text/latex": [
       "$$\\int_{0}^{\\infty} \\frac{r^{3}}{8} \\left(- r + 2\\right)^{2} e^{- r}\\, dr$$"
      ],
      "text/plain": [
       "∞                    \n",
       "⌠                    \n",
       "⎮  3         2  -r   \n",
       "⎮ r ⋅(-r + 2) ⋅ℯ     \n",
       "⎮ ──────────────── dr\n",
       "⎮        8           \n",
       "⌡                    \n",
       "0                    "
      ]
     },
     "execution_count": 51,
     "metadata": {},
     "output_type": "execute_result"
    }
   ],
   "source": [
    "res = Integral(R_nl(2,0,r)**2*r**3,(r,0,oo)) # <r>\n",
    "res"
   ]
  },
  {
   "cell_type": "code",
   "execution_count": 52,
   "metadata": {},
   "outputs": [
    {
     "data": {
      "image/png": "[encoded data removed]",
      "text/latex": [
       "$$6$$"
      ],
      "text/plain": [
       "6"
      ]
     },
     "execution_count": 52,
     "metadata": {},
     "output_type": "execute_result"
    }
   ],
   "source": [
    "res.doit()"
   ]
  },
  {
   "cell_type": "code",
   "execution_count": 53,
   "metadata": {},
   "outputs": [
    {
     "data": {
      "image/png": "[encoded data removed]",
      "text/latex": [
       "$$\\frac{1}{4}$$"
      ],
      "text/plain": [
       "1/4"
      ]
     },
     "execution_count": 53,
     "metadata": {},
     "output_type": "execute_result"
    }
   ],
   "source": [
    "res = Integral(R_nl(2,0,r)**2*r,(r,0,oo))  # <1/r>\n",
    "res.doit()"
   ]
  },
  {
   "cell_type": "code",
   "execution_count": 54,
   "metadata": {},
   "outputs": [
    {
     "data": {
      "image/png": "[encoded data removed]",
      "text/latex": [
       "$$\\left ( \\frac{2 \\cdot 2^{2 n - 2}}{n^{3} \\left(2 n - 1\\right)!} n^{- 2 n + 2} \\left(\\frac{2}{n}\\right)^{- 2 n - 1} \\Gamma{\\left(2 n + 2 \\right)}, \\quad \\frac{2^{2 n - 2} n^{- 2 n + 2}}{n^{4} \\left(2 n - 1\\right)!} \\left(\\frac{2}{n}\\right)^{- 2 n + 1} \\Gamma{\\left(2 n + 1 \\right)}\\right )$$"
      ],
      "text/plain": [
       "⎛                        -2⋅n - 1                                   -2⋅n + 1  \n",
       "⎜   2⋅n - 2  -2⋅n + 2 ⎛2⎞                      2⋅n - 2  -2⋅n + 2 ⎛2⎞          \n",
       "⎜2⋅2       ⋅n        ⋅⎜─⎟        ⋅Γ(2⋅n + 2)  2       ⋅n        ⋅⎜─⎟        ⋅Γ\n",
       "⎜                     ⎝n⎠                                        ⎝n⎠          \n",
       "⎜───────────────────────────────────────────, ────────────────────────────────\n",
       "⎜                3                                           4                \n",
       "⎝               n ⋅(2⋅n - 1)!                               n ⋅(2⋅n - 1)!     \n",
       "\n",
       "         ⎞\n",
       "         ⎟\n",
       "(2⋅n + 1)⎟\n",
       "         ⎟\n",
       "─────────⎟\n",
       "         ⎟\n",
       "         ⎠"
      ]
     },
     "execution_count": 54,
     "metadata": {},
     "output_type": "execute_result"
    }
   ],
   "source": [
    "integrate(R_nl(n,n-1,r)**2*r**3,(r,0,oo)), integrate(R_nl(n,n-1,r)**2*r,(r,0,oo))"
   ]
  },
  {
   "cell_type": "code",
   "execution_count": 55,
   "metadata": {},
   "outputs": [
    {
     "data": {
      "image/png": "[encoded data removed]",
      "text/latex": [
       "$$\\left ( n^{2} + \\frac{n}{2}, \\quad \\frac{1}{n^{2}}\\right )$$"
      ],
      "text/plain": [
       "⎛ 2   n  1 ⎞\n",
       "⎜n  + ─, ──⎟\n",
       "⎜     2   2⎟\n",
       "⎝        n ⎠"
      ]
     },
     "execution_count": 55,
     "metadata": {},
     "output_type": "execute_result"
    }
   ],
   "source": [
    "simplify(_)"
   ]
  },
  {
   "cell_type": "code",
   "execution_count": null,
   "metadata": {},
   "outputs": [],
   "source": []
  }
 ],
 "metadata": {
  "kernelspec": {
   "display_name": "Python 3",
   "language": "python",
   "name": "python3"
  },
  "language_info": {
   "codemirror_mode": {
    "name": "ipython",
    "version": 3
   },
   "file_extension": ".py",
   "mimetype": "text/x-python",
   "name": "python",
   "nbconvert_exporter": "python",
   "pygments_lexer": "ipython3",
   "version": "3.7.0"
  }
 },
 "nbformat": 4,
 "nbformat_minor": 2
}
