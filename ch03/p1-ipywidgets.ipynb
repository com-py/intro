{
 "cells": [
  {
   "cell_type": "markdown",
   "metadata": {},
   "source": [
    "## <span style=\"color:blue\">Introduction to computation in physical sciences</span>\n",
    "### J Wang and A Wang, [github.com/com-py/intro](https://github.com/com-py/intro) \n",
    "### Ch03, `p1-ipywidgets`, IPywidgets"
   ]
  },
  {
   "cell_type": "code",
   "execution_count": 1,
   "metadata": {},
   "outputs": [],
   "source": [
    "import ipywidgets as wgt"
   ]
  },
  {
   "cell_type": "code",
   "execution_count": 2,
   "metadata": {},
   "outputs": [
    {
     "data": {
      "application/vnd.jupyter.widget-view+json": {
       "model_id": "0ba2768d2f374d13824083a52674c272",
       "version_major": 2,
       "version_minor": 0
      },
      "text/plain": [
       "Button(description='a button', style=ButtonStyle())"
      ]
     },
     "metadata": {},
     "output_type": "display_data"
    }
   ],
   "source": [
    "b = wgt.Button(description='a button')\n",
    "b"
   ]
  },
  {
   "cell_type": "code",
   "execution_count": 3,
   "metadata": {},
   "outputs": [],
   "source": [
    "def hello(dummy):\n",
    "    print('hello world')\n",
    "    \n",
    "b.on_click(hello)"
   ]
  },
  {
   "cell_type": "code",
   "execution_count": 4,
   "metadata": {},
   "outputs": [
    {
     "data": {
      "application/vnd.jupyter.widget-view+json": {
       "model_id": "8bed3f3838d74bebb742891244a42a4a",
       "version_major": 2,
       "version_minor": 0
      },
      "text/plain": [
       "Select(description='select menu', options=('a', 'b', 'c'), value='a')"
      ]
     },
     "metadata": {},
     "output_type": "display_data"
    }
   ],
   "source": [
    "menu = wgt.Select(options=['a', 'b', 'c'], description='select menu')\n",
    "menu"
   ]
  },
  {
   "cell_type": "code",
   "execution_count": 5,
   "metadata": {},
   "outputs": [
    {
     "data": {
      "text/plain": [
       "'a'"
      ]
     },
     "execution_count": 5,
     "metadata": {},
     "output_type": "execute_result"
    }
   ],
   "source": [
    "menu.value"
   ]
  },
  {
   "cell_type": "code",
   "execution_count": 6,
   "metadata": {},
   "outputs": [
    {
     "data": {
      "application/vnd.jupyter.widget-view+json": {
       "model_id": "65371af589b4476eaf79c6d85ff2a4d4",
       "version_major": 2,
       "version_minor": 0
      },
      "text/plain": [
       "Dropdown(description='dropdown', options=('a', 'b', 'c'), value='a')"
      ]
     },
     "metadata": {},
     "output_type": "display_data"
    }
   ],
   "source": [
    "drop = wgt.Dropdown(options=['a', 'b', 'c'], description='dropdown')\n",
    "drop "
   ]
  },
  {
   "cell_type": "code",
   "execution_count": 7,
   "metadata": {},
   "outputs": [
    {
     "data": {
      "text/plain": [
       "'a'"
      ]
     },
     "execution_count": 7,
     "metadata": {},
     "output_type": "execute_result"
    }
   ],
   "source": [
    "drop.value"
   ]
  },
  {
   "cell_type": "code",
   "execution_count": 8,
   "metadata": {},
   "outputs": [
    {
     "data": {
      "application/vnd.jupyter.widget-view+json": {
       "model_id": "fdbcb19cb8114cddbff8b2c758923f56",
       "version_major": 2,
       "version_minor": 0
      },
      "text/plain": [
       "RadioButtons(description='radio', options=('a', 'b', 'c'), value='a')"
      ]
     },
     "metadata": {},
     "output_type": "display_data"
    }
   ],
   "source": [
    "rb = wgt.RadioButtons(options=['a', 'b', 'c'], description='radio')\n",
    "rb"
   ]
  },
  {
   "cell_type": "code",
   "execution_count": 9,
   "metadata": {},
   "outputs": [
    {
     "data": {
      "application/vnd.jupyter.widget-view+json": {
       "model_id": "8b49259a2d9f423eb0db8d21981bc541",
       "version_major": 2,
       "version_minor": 0
      },
      "text/plain": [
       "Checkbox(value=False, description='yes')"
      ]
     },
     "metadata": {},
     "output_type": "display_data"
    }
   ],
   "source": [
    "chk = wgt.Checkbox(description='yes')\n",
    "chk"
   ]
  },
  {
   "cell_type": "code",
   "execution_count": 10,
   "metadata": {},
   "outputs": [
    {
     "data": {
      "text/plain": [
       "False"
      ]
     },
     "execution_count": 10,
     "metadata": {},
     "output_type": "execute_result"
    }
   ],
   "source": [
    "chk.value"
   ]
  },
  {
   "cell_type": "code",
   "execution_count": 11,
   "metadata": {},
   "outputs": [
    {
     "data": {
      "application/vnd.jupyter.widget-view+json": {
       "model_id": "86665079c9054c0ba5f60d45ab7f858c",
       "version_major": 2,
       "version_minor": 0
      },
      "text/plain": [
       "ToggleButton(value=False, description='boolean')"
      ]
     },
     "metadata": {},
     "output_type": "display_data"
    }
   ],
   "source": [
    "tb = wgt.ToggleButton(description='boolean')\n",
    "tb"
   ]
  },
  {
   "cell_type": "code",
   "execution_count": 12,
   "metadata": {},
   "outputs": [
    {
     "data": {
      "text/plain": [
       "False"
      ]
     },
     "execution_count": 12,
     "metadata": {},
     "output_type": "execute_result"
    }
   ],
   "source": [
    "tb.value"
   ]
  },
  {
   "cell_type": "code",
   "execution_count": 13,
   "metadata": {},
   "outputs": [
    {
     "data": {
      "application/vnd.jupyter.widget-view+json": {
       "model_id": "2c3cc35569504bd58329d48fcd7a0b73",
       "version_major": 2,
       "version_minor": 0
      },
      "text/plain": [
       "FloatSlider(value=0.5, max=1.0, step=0.01)"
      ]
     },
     "metadata": {},
     "output_type": "display_data"
    }
   ],
   "source": [
    "slider = wgt.FloatSlider(min=0, max=1, step=0.01, value=0.5)\n",
    "slider"
   ]
  },
  {
   "cell_type": "code",
   "execution_count": 14,
   "metadata": {},
   "outputs": [
    {
     "data": {
      "application/vnd.jupyter.widget-view+json": {
       "model_id": "cf5cd682d5924a79b13d86ded21533fb",
       "version_major": 2,
       "version_minor": 0
      },
      "text/plain": [
       "IntSlider(value=5, max=10)"
      ]
     },
     "metadata": {},
     "output_type": "display_data"
    }
   ],
   "source": [
    "intslider = wgt.IntSlider(min=0, max=10, step=1, value=5)\n",
    "intslider"
   ]
  },
  {
   "cell_type": "code",
   "execution_count": 15,
   "metadata": {},
   "outputs": [
    {
     "data": {
      "application/vnd.jupyter.widget-view+json": {
       "model_id": "a5342b53444044bb94928f68bdedaa70",
       "version_major": 2,
       "version_minor": 0
      },
      "text/plain": [
       "interactive(children=(FloatSlider(value=1.0, description='k', max=2.0), Dropdown(description='func', options=(…"
      ]
     },
     "metadata": {},
     "output_type": "display_data"
    }
   ],
   "source": [
    "import matplotlib.pyplot as plt\n",
    "import numpy as np\n",
    "def plotf(k, func, refresh):\n",
    "    if (func == 'sin'):\n",
    "        f = np.sin(k*np.pi*x)\n",
    "    else:\n",
    "        f = np.cos(k*np.pi*x)\n",
    "    if refresh:\n",
    "        plt.plot(x, f)\n",
    "\n",
    "x = np.linspace(-1,1,101)\n",
    "wgt.interactive(plotf, k=(0,2,.1), func=['sin', 'cos'], refresh=(True))"
   ]
  },
  {
   "cell_type": "code",
   "execution_count": null,
   "metadata": {},
   "outputs": [],
   "source": []
  }
 ],
 "metadata": {
  "kernelspec": {
   "display_name": "Python 3",
   "language": "python",
   "name": "python3"
  },
  "language_info": {
   "codemirror_mode": {
    "name": "ipython",
    "version": 3
   },
   "file_extension": ".py",
   "mimetype": "text/x-python",
   "name": "python",
   "nbconvert_exporter": "python",
   "pygments_lexer": "ipython3",
   "version": "3.7.0"
  },
  "widgets": {
   "application/vnd.jupyter.widget-state+json": {
    "state": {
     "0033e408c59a45dbb56d352bdaa0d597": {
      "model_module": "@jupyter-widgets/controls",
      "model_module_version": "1.4.0",
      "model_name": "VBoxModel",
      "state": {
       "_dom_classes": [
        "widget-interact"
       ],
       "children": [
        "IPY_MODEL_efb2204c11bb498f9f88ef17a770726f",
        "IPY_MODEL_71dbef7f03334820be65df207d72d9ec",
        "IPY_MODEL_d2dcdf8839a34ba8a119c9311131b336",
        "IPY_MODEL_7996ef3dc5084c1bb7d4c2e66cc62e59"
       ],
       "layout": "IPY_MODEL_f84c9499b4134a85b1480c12d3ed3558"
      }
     },
     "0490689c48e845b882d2df4162c19ba8": {
      "model_module": "@jupyter-widgets/base",
      "model_module_version": "1.1.0",
      "model_name": "LayoutModel",
      "state": {}
     },
     "0a483eb7950545a789d1e98a73dbf348": {
      "model_module": "@jupyter-widgets/controls",
      "model_module_version": "1.4.0",
      "model_name": "RadioButtonsModel",
      "state": {
       "_options_labels": [
        "a",
        "b",
        "c"
       ],
       "description": "radio",
       "index": 0,
       "layout": "IPY_MODEL_a0e96304c10749d986d55aac1b062a5c",
       "style": "IPY_MODEL_c447edacae01436c851418bd057bf6d5"
      }
     },
     "16a0f9053ab444679e091e6c5324d8cb": {
      "model_module": "@jupyter-widgets/output",
      "model_module_version": "1.0.0",
      "model_name": "OutputModel",
      "state": {
       "layout": "IPY_MODEL_9c400f0813814addbb8656c66785ea95",
       "outputs": [
        {
         "name": "stdout",
         "output_type": "stream",
         "text": "cos selected\n"
        },
        {
         "data": {
          "image/png": "iVBORw0KGgoAAAANSUhEUgAAAXcAAAD8CAYAAACMwORRAAAABHNCSVQICAgIfAhkiAAAAAlwSFlzAAALEgAACxIB0t1+/AAAADl0RVh0U29mdHdhcmUAbWF0cGxvdGxpYiB2ZXJzaW9uIDIuMi4zLCBodHRwOi8vbWF0cGxvdGxpYi5vcmcvIxREBQAAIABJREFUeJzt3Xl4VOXd//H3NwlJgEBYskASIIQkhLBj2FzZBargLljXutUKaLVVafu4VX+1Wh9bK4qgqLhgcasoKLiwyw4CsgSSkEAIkAAhJGTP3L8/MvSZxkAGMpMzy/d1XVxOzpyZ+XgSPtw5c+a+xRiDUkop3xJgdQCllFKup+WulFI+SMtdKaV8kJa7Ukr5IC13pZTyQVruSinlg7TclVLKB2m5K6WUD9JyV0opHxRk1QtHRESY+Ph4q15eKaW80qZNm44aYyIb2s+yco+Pj2fjxo1WvbxSSnklEclxZj89LaOUUj5Iy10ppXyQlrtSSvkgLXellPJBWu5KKeWDGix3EZkjIvki8tMZ7hcReVlEMkRkm4gMcH1MpZRS58KZkfvbwNiz3D8OSLL/uQd4rfGxlFJKNUaD17kbY1aISPxZdpkIzDW16/WtFZE2ItLRGHPIRRmVcrnqGhuHisrJLy4n/2QFR09VUlFVQ0W1jcpqG8FBAYQEBRDaLJCIsGAiW4US1SqEmDbNCQwQq+Mr1SBXfIgpFjjg8HWufdvPyl1E7qF2dE/nzp1d8NJKNay8qoZtuUVsyilk+8ETZOSXkH20lMoa2zk/V3BQAAkRLUmMCqNPXDgXdGlLz5hwQpsFuiG5UufPFeVe3zCm3lW3jTGzgFkAaWlpujK3cgtjDOlHilm6u4Cl6flszimk2lb749a5XQuSo8MYnhJFQkRLoluHEtUqlIiwYJoHBxISFEizQKGqxlBeXUNZZQ1HSyrIL67gSFE5WUdPkZFfwpb9J/hyW+34JTgwgLT4tgzvHsWw7pEkRoUhoqN7ZS1XlHsu0Mnh6zggzwXPq9Q5ycgvYcHWPBb8eJDsY6UA9OjYmjsv6Upal3YM6NyG9mEhTj1XcJAQHBRA69BmRLcOpWc9++QXl7M55wQbs4+zYm8Bzy7axbOLdpEYFcaEvjFM6BtDfERLF/4fKuU8qT1V3sBOtefcvzTG9Krnvl8AU4DxwGDgZWPMoIaeMy0tzejcMqqxyqtq+OqnQ7y7JofN+08gAhd2a88VfWIY3j2KDuGhTZbl4Ikyvt+dzxdb81i/7zgAg7q245YhXbi8ZweCg/TKY9V4IrLJGJPW4H4NlbuIzAOGARHAEeAJoBmAMWam1P7++Qq1V9SUAncYYxpsbS131RjHT1Xy9up9vLduP8dPVZIQ0ZKbBndmQt8Yolo3XaGfSd6JMj7/MY8P1udw4HgZEWEh3Da0C7cOjSe8RTOr4ykv5rJydxctd3U+jpws5/XlWcxbv5+yqhpGp0Zz29B4Lkps75HnuW02w/K9BbzzQzbL0gsICwni5iFduOuSrkQ4eYpIKUda7sqnFJVVMXN5JnNW7aPaZriqXyz3DUsgMaqV1dGctjPvJK8tz2ThtjyaNwvk7ksTuOuSBMJCLJt5W3khLXflE6prbMxdk8M/vtvLyfIqJvaN4aHR3encvoXV0c5bZkEJLy5JZ9H2w0SEBfPb0clMGthZr59XTtFyV15v/b7jPP75T+w+XMwlSRE8Ni6FnjHhVsdymS37C/nLV7tZv+84vWPD+fNVvejXqY3VsZSH03JXXquotIo/L9zJx5tyiW3TnP+5IpXLe0Z75Dn1xjLGsGBrHs8u3EVBSQU3DerMY+NSaBWqb7qq+jlb7nqyT3mUb3Ye4Q+fbef4qUp+M6wbU0ck0TzYdz/9KSJM7BfLiJQo/v7tXuas3sfS3fk8d20fLk1ucJlMpc5IL7xVHqG4vIrf/utH7p67kYiwED6//yIeGZvi08XuqFVoM/7nilQ+ue9CmgcHcuuc9Uz/dBulldVWR1NeSkfuynKb9xfywIdbyDtRzgMjk7h/eKLffuBnQOe2LJx2CS99u4dZK7JYt+84L0/qT69Y33mvQTUN//wbpDyCzWaYsTSD62euwWaD+fcO4bejk/222E8LbRbI9HE9eO/OwZSUV3PNqz8wZ9U+rHp/THkn//5bpCxTVFbFPe9u5IXF6Yzt1YFFD1zCBV3aWR3Lo1yUGMHXD17KpckRPP3lTqbO28KpCj1No5yjp2VUk9t9+CS/fncTuYVlPHFlKrdfGO+TV8K4QruWwcy6JY3Xlmfy4pJ00g8XM/OWC+gWGWZ1NOXhdOSumtSSHYe55tUfKK2s4cN7hnDHRV212BsQECDcPzyRub8azLFTlVw1YzUr9hRYHUt5OC131SSMMcxcnsm9720iKSqML6deTFq8noY5FxcnRbBgykXEtmnOHW9vYO6abKsjKQ+m5a7crqrGxqOfbOO5r3YzvndH/nXvUI+YudEbxbVtwcf3Xciw5Ege/3wHTy7YQY1N32hVP6flrtyqtLKau+duZP7GXKaNSOSfk/rrknSNFBYSxKxb07jr4q68/UM2Uz7YTHlVjdWxlIfRN1SV2xwrqeBXb29g+8EinrumN5MG6bq5rhIYIPzpilQ6hIfyzMJdHDu1ntm3phHeXKctULV05K7c4uCJMq6buYbdh4t5/ZY0LXY3ueuSBF6e3J8t+wu5YeYa8ovLrY6kPISWu3K57KOnuGHmGo6WVPD+XYMZnRptdSSfNqFvDG/dPoj9x0u58fW15J0oszqS8gBa7sql9h4p5obX11BaWc28u4foFTFN5OKkCN69cxBHiyu4fuYaco6dsjqSspiWu3KZ9MPF3DhrLQDz7x2q86E0sbT4dsy7ZwilldXc8Poa9h3VgvdnWu7KJfYcKeam2WtpFij8696hJEV7z/J3vqRXbDgf3jOUqhrD5FlrydaC91ta7qrR9tqLPTBAmHf3ELpGtLQ6kl/r3qEV7981mIrqGibPXsv+Y6VWR1IW0HJXjbLv6CluemMdIHxw9xASdM4Tj9CjY2veu2swZVW1BX9Q32T1O1ru6rzlnSjj5jfWUV1jY97dg0mM0mL3JD1jwnnvzsGcLKviljfWcbSkwupIqglpuavzcqykgpvfXMfJsirm/mqwnmP3UL1iw5lzx0Dyisq49c31FJVVWR1JNREtd3XOisuruO2t9RwsLOPN2wfSO06vivFkA+PbMfPmC9ibX8ydb2/QqQr8hJa7OieV1Tbue28zuw4VM/PmCxjUVa9j9wbDukfx9xv7s2l/IVPnbaG6xmZ1JOVmWu7KaTab4ZGPt7Iq4yjPXdOb4SlRVkdS5+AXfTryxBWpfLPzCI8v2KHL9vk4nThMOe2vi3fz7x/z+P3l3bk+rZPVcdR5uP2irhw+WcHM5Zl0bB3K1JFJVkdSbqLlrpzy3tocXl+exS1DuvCbYd2sjqMa4dGx3ck/Wc6L3+yhU7sWXNU/1upIyg203FWDlu8p4IkFOxiREsWTE3rqsnheTkR47to+5BWV8cjH24ht25yBOgeQz3HqnLuIjBWRdBHJEJHH6rm/s4gsFZEtIrJNRMa7PqqyQvrhYqa8v5nk6Fa8PLk/gQFa7L4gOCiAmTdfQFzb5twzd6NONOaDGix3EQkEZgDjgFRgsoik1tntT8B8Y0x/YBLwqquDqqZ31L7YRvPgQN68LY2wEP1Fz5e0aRHMnNsHYoA73t6g18D7GGdG7oOADGNMljGmEvgQmFhnHwO0tt8OB/JcF1FZofaSx00cLangjdvSiGnT3OpIyg3iI1oy65Y0DhwvZdq8Lboeqw9xptxjgQMOX+fatzl6ErhZRHKBRcBUl6RTljDG8MSCHWzILuT56/rQJ66N1ZGUGw3q2o6nJ/Zi+Z4C/vr1bqvjKBdxptzrO8la95/3ycDbxpg4YDzwroj87LlF5B4R2SgiGwsKCs49rWoS763NYd76/dw3rBsT++mVFP5g8qDO3Dq0C7NWZPHp5lyr4ygXcKbccwHHi5rj+PlplzuB+QDGmDVAKBBR94mMMbOMMWnGmLTIyMjzS6zcal3WMZ76YicjUqL43ZjuVsdRTeh/rkhlaEJ7Hvt0O9tyT1gdRzWSM+W+AUgSka4iEkztG6YL6uyzHxgJICI9qC13HZp7mSMny7n/gy10bteCv0/qp1fG+JlmgQHM+OUAIsNCuO+9zRw/VWl1JNUIDZa7MaYamAIsBnZRe1XMDhF5WkQm2Hd7GLhbRLYC84DbjX622atUVtv4zfubKa2s5vVbLqB1aDOrIykLtGsZzGs3D6CgpELfYPVyTl3bZoxZRO0bpY7bHne4vRO4yLXRVFN6duFONuUU8spN/XX6Xj/XJ64Nf57Yk0c/2c6LS9J5ZGyK1ZHUedCJwxSf/3iQd9bkcNfFXbmiT4zVcZQHuHFgZyYN7MSryzL5ducRq+Oo86Dl7ucy8kuY/ul2Bsa35dFxOkJT/+fJCT3pGdOahz/aSm6hrsPqbbTc/VhZZQ33v7+Z0GaB/HPyAJoF6o+D+j+hzQJ59ZcDsNkM93+whcpqnQPem+jfZj/2xIKf2JNfzEs39qNDeKjVcZQH6tK+Jc9f14etB07w3Ff6ASdvouXupz7bksv8jbncPyyRy5L1MwfqzMb17sjtF8YzZ/U+luw4bHUc5SQtdz+07+gp/vTZTwyMb8uDo3SxBtWw6eNT6BXbmkc+2cahojKr4ygnaLn7mcpqG9PmbSEoMIC/T+pPkJ5nV04ICQrk5Un9qay28cCHP+r1715A/2b7mb8tSWf7wSL+em1vYnWmR3UOEiLDeHpiL9bvO86MpRlWx1EN0HL3Iyv2FDBrRRa/HNyZsb06Wh1HeaFrB8RyVb8Y/v7tHjZmH7c6jjoLLXc/cfxUJQ9/tJXEqDD+9Iu6a60o5RwR4c9X9SK2bXN+O/9Hist1gQ9PpeXuB4wx/OHT7ZworeQfk/rRPDjQ6kjKi7UKbcZLN/TjYGEZT32x0+o46gy03P3AR5ty+XrHYX43pjs9Y8KtjqN8QFp8O6YMT+TjTbks2n7I6jiqHlruPm7/sVKeWrCDoQntufuSBKvjKB8ydWQSfePCmf7pdg4XlVsdR9Wh5e7DamyGhz/6kYAA4cUb+hKg87MrF2oWGMBLN/ajstrGo59sQ2f59ixa7j7szVVZbMgu5KkJPXWBa+UWCZFhTB+fwvI9BXywfr/VcZQDLXcftedIMX9bvIfLe0ZzdX9dB1W5z82Du3BxYgTPLtzF/mM6e6Sn0HL3QVU1Nh6a/yOtQoN49ureiOjpGOU+AQHC89f1IVCE3320VT+96iG03H3QjKUZ/HTwJM9e3ZuIsBCr4yg/ENOmOU9M6Mn67OO8tXqf1XEUWu4+Z2feSV75PoOJ/WIY26uD1XGUH7l2QCyjekTxwuJ09h09ZXUcv6fl7kOqamz8/uOttGkRzJNX9rQ6jvIzIsKzV/cmJCiARz7eik1Pz1hKy92HzFyWyY68kzxzVS/atgy2Oo7yQ9GtQ3n8yp5syC7knTXZVsfxa1ruPmL34ZO8/P1erujTUU/HKEtdOyCWYd0j+evXu8nW0zOW0XL3ATU2w6Mfb6NVaDOemqCnY5S1RIS/XNObZgEBTP90u364ySJa7j7grdX72JpbxBNXptJer45RHqBjeHMeG5/CmqxjzN94wOo4fknL3csdOF7Ki0v2MCIligl9Y6yOo9R/TB7YmUFd2/HMwl3kn9S5Z5qalrsXM8Yw/dPtBAYIz1zVSz+spDxKQIDw3DW9qai28fjnO6yO43e03L3YJ5sPsirjKI+O7a5zxyiPlBAZxoOjkvh6x2G+/kmnBm5KWu5e6lhJBc8s3Elal7b8cnAXq+ModUZ3X5JAj46teWLBDk7qyk1NRsvdSz27cBenKqr5f9f01ql8lUdrFhjAX67pTX5xBX9bnG51HL+h5e6FVu09yqdbDnLvpd1Ijm5ldRylGtSvUxtuGxrPu2tz2Ly/0Oo4fkHL3cuUV9Xwp39vJ759C6aMSLQ6jlJOe3hMMtGtQvnDp9upqrFZHcfnOVXuIjJWRNJFJENEHjvDPjeIyE4R2SEiH7g2pjptxtIMso+V8uzVvQltpgtdK+/RKrQZT03sye7Dxby5SmeOdLcGy11EAoEZwDggFZgsIql19kkCpgMXGWN6Ag+6Iavfy8gvYebyTK7uH8tFiRFWx1HqnF3eswOjekTzj2/3kluoC3u4kzMj90FAhjEmyxhTCXwITKyzz93ADGNMIYAxJt+1MZUxhsc//4nmzQL5w/geVsdR6rw9OaF2bPj0FzstTuLbnCn3WMDx88O59m2OkoFkEVktImtFZGx9TyQi94jIRhHZWFBQcH6J/dSCrXn8kHmM349NIbKVTjGgvFdc2xZMG5nEkp1H+G7XEavj+Cxnyr2+6+zqzgQUBCQBw4DJwBsi0uZnDzJmljEmzRiTFhkZea5Z/VZRWRV//nIXfeLCuWlQZ6vjKNVod17claSoMJ5YsIOyyhqr4/gkZ8o9F+jk8HUckFfPPp8bY6qMMfuAdGrLXrnA/y5J5/ipCp69qjeBek278gHBQQE8c1UvcgvL+Of3e62O45OcKfcNQJKIdBWRYGASsKDOPv8GhgOISAS1p2myXBnUX+3IK+LdtTn8cnAXeseFWx1HKZcZnNCeawbEMntlFlkFJVbH8TkNlrsxphqYAiwGdgHzjTE7RORpEZlg320xcExEdgJLgd8bY465K7S/sNkMj3++g7YtgvndmO5Wx1HK5aaP60FoUCBPfrFT5313sSBndjLGLAIW1dn2uMNtAzxk/6Nc5NMtB9mUU8jz1/UhvEUzq+Mo5XKRrUJ4aEwyT32xk8U7jugqYi6kn1D1UEVlVfxl0S4GdG7DdQPirI6jlNvcMqQLKR1a8ecvd+qbqy6k5e6hXvpmD4WllTw9sZdODKZ8WlBgAE9P7MXBE2XMWJphdRyfoeXugXYfPsm7a3O4aXBnesXqm6jK9w3q2o6r+8cya0UWOcd0UW1X0HL3MMYYnlqwk1ahQTw8Wt9EVf7jsXEpBAUKzyzcZXUUn6Dl7mG++ukwa7KO8fCY7rRtGWx1HKWaTHTrUKaOSOKbnUdYvkc/wd5YWu4epKyyhmcX7qJHx9b6SVTll351cTzx7Vvw1Bc7qKzWaYEbQ8vdg8xcnsnBE2U8eWWqfhJV+aWQoEAevzKVrIJTvPNDttVxvJqWu4c4eKKMmcszuaJPRwYntLc6jlKWGZESzbDukbz83V6OllRYHcdrabl7iOe+2g3AdJ3OVyn+9ItUyqpqeHHJHqujeC0tdw+wIfs4X2zN497LuhHbprnVcZSyXGJUGLcOjefDDfvZkVdkdRyvpOVuMZvN8PQXO+nQOpRfX5ZgdRylPMYDI5No07wZT+u8M+dFy91iH2/OZfvBIh4bl0KLYKem+lHKL4S3aMZDY7qzbt9xvv7psNVxvI6Wu4VOVVTzwuJ0+nduw8R+MVbHUcrjTB7Yie7Rrfh/X+2iolrnnTkXWu4Wmrk8k4LiCv7nilRE9NJHpeoKCgzgT1f04MDxMt5enW11HK+i5W6RvBNlzFqRxYS+MQzo3NbqOEp5rEuSIhmREsUr32dwTC+NdJqWu0We/7r20sdHxur8MUo15A/jUyitquGlb/XSSGdpuVvgxwMn+PePedx1SVfi2rawOo5SHi8xqhU3D+7MB+v2s+dIsdVxvIKWexMzxvDMlzuJCAvhvmGJVsdRyms8MCqZliFBPKuzRjpFy72JLd5xmI05hTw0OpmwEL30USlntWsZzLQRSSzfU8DKvTprZEO03JtQZbWN577aTXJ0GDek6dJ5Sp2rWy/sQlzb5jy7cBc1Nv1g09louTeh99flkH2slOnjexAUqIdeqXMVEhTIo2NT2H24mE8351odx6NpwzSRorIq/vHdXi5OjGBYcqTVcZTyWlf06Ui/Tm3425J0XVD7LLTcm8irSzMoKqti+vgU/cCSUo0gIvzxFz04crKC2SuzrI7jsbTcm0BuYSlvrc7mmv5x9IzRBa+VaqyB8e24vGc0ry/P1Dnfz0DLvQn875I9IPDwmGSroyjlMx4Zm0J5tY2Xv9trdRSPpOXuZjvyivjsx4P86qKuxOhc7Uq5TLfIMCYP6sQH6/aTVVBidRyPo+XuZs99tZvw5s24b1g3q6Mo5XMeGJlMcFAALyxOtzqKx9Fyd6OVewtYufcoU4YnEt68mdVxlPI5ka1CuOfSBL766TCbcgqtjuNRtNzdxGYz/GXRbuLaNueWoV2sjqOUz7r7kgQiwkJ47qtdumKTAy13N/liWx47D53kd2O6ExIUaHUcpXxWy5AgHhyVxIbsQr7blW91HI/hVLmLyFgRSReRDBF57Cz7XSciRkTSXBfR+1RW2/jbknRSO7ZmQl9dYUkpd7txYCe6RrTk+cW7dVoCuwbLXUQCgRnAOCAVmCwiqfXs1wqYBqxzdUhv88G6HA4cL+PRcSkEBOgHlpRyt2aBAfz+8u7sOVKi0xLYOTNyHwRkGGOyjDGVwIfAxHr2+zPwPFDuwnxep7i8ipe/z+DCbu25NCnC6jhK+Y1xvTrQNy6cl77ZQ3mVTkvgTLnHAgccvs61b/sPEekPdDLGfOnCbF5p9sp9HD9VyaNjdZoBpZqSiPDouBTyisp5d02O1XEs50y519dQ/zmpJSIBwEvAww0+kcg9IrJRRDYWFPjefMxHSyp4Y2UW43t3oG+nNlbHUcrvXNgtgsuSI5mxLIOT5VVWx7GUM+WeC3Ry+DoOyHP4uhXQC1gmItnAEGBBfW+qGmNmGWPSjDFpkZG+NzPiK99nUFFt4+Exui6qUlb5/eXdOVFaxewV/j2pmDPlvgFIEpGuIhIMTAIWnL7TGFNkjIkwxsQbY+KBtcAEY8xGtyT2UAeOl/L+uhxuSIujW2SY1XGU8lu9YsO5sm8Mb6zcR0Gx/04q1mC5G2OqgSnAYmAXMN8Ys0NEnhaRCe4O6C1e+nYPASJMG5lkdRSl/N7Do5OpqrHxyvf+O6mYU4t4GmMWAYvqbHv8DPsOa3ws75J+uJjPthzknksS6Biuk4MpZbX4iJbcMLATH6zfz50XJ9C5fQurIzU5/YSqC7ywOJ2wkCCdHEwpD/LAyCQCRPjfb/xzUjEt90balFPIt7uOcO+lCbRpEWx1HKWUXXTrUO64qCufb81j9+GTVsdpclrujWCM4YXFu4kIC+aOi7paHUcpVcevL0sgLDiIF5fssTpKk9Nyb4TVGcdYm3Wc+4cn0jLEqbcvlFJNqE2LYO65NIFvdh5hy37/mhJYy/08nR61x4SHctPgzlbHUUqdwR0Xd6V9y2C/W9BDy/08Ldl5hK25RTw4Klmn9FXKg4WFBPGb4Yn8kHmM1RlHrY7TZLTcz0ONzfDiknQSIltyzYDYhh+glLLULwd3JiY8lOcXp/vNgh5a7ufhi6157DlSwkOjkwkK1EOolKcLbRbItJFJbD1wgm/9ZEEPbaZzVFVj46Vv99CjY2vG9+podRyllJOuvSCO+PYteHFJOjY/WNBDy/0cfbIpl5xjpTw8OlkX4lDKizQLDODBUcnsPlzMwu2HrI7jdlru56CiuoaXv9tLv05tGNkjyuo4SqlzdGXfGJKjw3jp2z1U19isjuNWWu7n4IN1+8krKuf3l3fXhTiU8kKBAcJDo7uTVXCKz7YctDqOW2m5O6m0spoZSzMZktCOC7u1tzqOUuo8Xd4zmt6x4fzju71UVvvu6F3L3Ulz1+RwtKSC343RUbtS3kxEeHhMMrmFZczfeKDhB3gpLXcnlFRU8/ryTC5LjiQtvp3VcZRSjXRZciQXdGnLK99n+Oxi2lruTnhr1T4KS6t4aHSy1VGUUi4gIjw8OpnDJ8uZt36/1XHcQsu9AUVlVcxemcWoHtG66LVSPuTCxAiGJrRnxtJMyip9b/Su5d6AN1dmcbK8WkftSvmgh8ckc7Skgrlrsq2O4nJa7mdReKqSN1ftY3zvDqTGtLY6jlLKxdLi23FpciQzl2dSUlFtdRyX0nI/i1krsyitquHBUTpqV8pXPTQ6mcLSKt75IdvqKC6l5X4GR0sqeHt1Nlf2iSE5upXVcZRSbtKvUxtGpkQxa0UWJ8urrI7jMlruZ/D68kwqqmt4YFSS1VGUUm7229HJFJVV8daqbKujuIyWez3yT5Yzd00OV/WPpVtkmNVxlFJu1is2nDGp0byxKouiUt8YvWu51+O15ZlU2wzTRuioXSl/8eCoZIrLq3lzVZbVUVxCy72Ow0XlvL9uP9cOiCU+oqXVcZRSTSQ1pjXje3dgzupsCk9VWh2n0bTc63h1WQY2m2GqjtqV8jsPjEzmVGU1s1d6/+hdy91B3okyPlx/gOsuiKNTuxZWx1FKNbHuHVoxvndH3vkhm+NePnrXcnfw6rIMbMZw//BEq6MopSzy4MgkSqtqmLXCu0fvWu52B0+U8a8NB7g+rZOO2pXyY0nRrbiiTwxz12RzrKTC6jjnTcvdbsbSDACmjNBRu1L+7oGRiZR5+ehdyx3ILSzlo40HuCGtE7FtmlsdRyllscSoVkzoG8PcNTkUFHvn6N2pcheRsSKSLiIZIvJYPfc/JCI7RWSbiHwnIl1cH9V9Xl2WiSB6rl0p9R/TRiZRUV3jtVfONFjuIhIIzADGAanAZBFJrbPbFiDNGNMH+Bh43tVB3eX0qP3GgZ2I0VG7UsquW2QYE/vFMndNNke98Ny7MyP3QUCGMSbLGFMJfAhMdNzBGLPUGFNq/3ItEOfamO4zY2ntqP2+Yd2sjqKU8jBTRiRSWW3zynPvzpR7LOC4imyufduZ3Al8Vd8dInKPiGwUkY0FBQXOp3QTHbUrpc7Gm0fvzpS71LPN1LujyM1AGvBCffcbY2YZY9KMMWmRkZHOp3STGUszCRAdtSulzsxbR+/OlHsu0Mnh6zggr+5OIjIK+CMwwRjj8f/E6ahdKeUMx9G7N10540y5bwCSRKSriAQDk4AFjjuISH/gdWqLPd/1MV1PR+1KKWdNtY/evenKmQbL3RhTDUwBFgO7gPnGmB0i8rSITLDv9gIQBnwkIj+KyIIzPJ1HOHiijI83HeCGgXHGkdO+AAAMDUlEQVQ6aldKNSghMowJfWN4d02O15x7D3JmJ2PMImBRnW2PO9we5eJcbvWq/dOovxmm17UrpZwzZUQSC7bmMXtlFtPH9bA6ToP87hOqB0+UMd/+aVQdtSulnJUYFcaVfWOY+0OOV8w543fl/toy+6hdP42qlDpHU0ckUl5dw+yV+6yO0iC/Kve8E2XM35DL9TqHjFLqPCRGteJK+4yRnj7fu1+V+8zlmdiM4Td6hYxS6jxNs88Y+YaHXznjN+V+uKicD9cf4Pq0OOLa6nztSqnzkxjVil/YV2vy5LVW/abc/2/UrufalVKNM3VEEqcqa3hzleeee/eLcs8/Wc4H6/dzzYBYXWVJKdVotWutduDtH7I5UeqZo3e/KPeZy7OosRmmDE+yOopSykdMG5lESUU1czx09O7z5Z5fXM7763K4un8sndvrqF0p5RopHVoztmcH3lqdTVFpldVxfsbny332iiyqamy6ypJSyuWmjUyiuKKat37wvNG7T5f70ZIK3lu7n6v6xdI1oqXVcZRSPiY1pjWjU6OZs2ofJ8s9a/Tu0+U+e2UW5dU13D9CR+1KKfeYNiKJk+XVzP0h2+oo/8Vny/34qUreXZPDlX1i6BYZZnUcpZSP6h0XzoiUKN5YtY+Simqr4/yHz5b7GyuzKKuqYaqO2pVSbjZtZBInSquYuybb6ij/4ZPlfqK0knd+yGZ8744kRbeyOo5Sysf169SGy5Ijmb0ii1MeMnr3yXKfs2ofpyp11K6UajrTRiZRWFrF++tyrI4C+GC5F5VV8dbqbMb27EBKh9ZWx1FK+YkLurTl4sQIZq3Ioqyyxuo4vlfub6/OpriimqkjddSulGpa00YmcbSkkg/W77c6im+Ve3F5FXNW72NUj2h6xoRbHUcp5WcGdW3HkIR2vL48k/Iqa0fvPlXuc9fkUFRWxTQdtSulLDJtZBL5xRXM33jA0hw+U+6nKqp5Y2UWw7pH0ieujdVxlFJ+amhCe9K6tOW1ZZlUVFs3eveZcn9vbQ6FpVVMHaEzPyqlrCMiTBuZxKGicj7elGtZDp8o97LKGmavzOKSpAgu6NLW6jhKKT93SVIE/Tq14dWlmVTV2CzJ4BPl/sH6/RwtqdRRu1LKI4gID4xM4uCJMj7bfNCSDF5f7uVVNby+PJMhCe0Y1LWd1XGUUgqAYd0j6R0bzoxlGVRbMHr3+nKfv/EA+cUVTNNRu1LKg4gIU0ckknOslAVb85r89b263Cuqa3htWSZpXdoytFt7q+MopdR/GZ0aTY+OrXllaQY1NtOkr+3V5f7JpoMcKipn2sgkRMTqOEop9V9EhGkjEskqOMWX25p29O615V5VY+PVZRn07dSGS5IirI6jlFL1urxnB5Kjw5ixNANbE47evbbcP9tykNzCMh4YmaijdqWUxwoIEKaMSGLPkRIW7zjcdK/rzE4iMlZE0kUkQ0Qeq+f+EBH5l/3+dSIS7+qgjqprbMxYmkGv2NYM7x7lzpdSSqlG+0XvjiREtuTl7zMwpmlG7w2Wu4gEAjOAcUAqMFlEUuvsdidQaIxJBF4C/urqoI6+2JZHzrFSpo7Qc+1KKc8XGCDcPyyRXYdO8u2u/CZ5TWdG7oOADGNMljGmEvgQmFhnn4nAO/bbHwMjxU2tW2Mz/PP7DFI6tGJ0j2h3vIRSSrncxH4xdG7Xgpe/29sko3dnyj0WcJzeLNe+rd59jDHVQBHglmsTF24/RFbBKaaOSCIgQEftSinvEBQYwP3Du7H9YBHL0gvc/nrOlHt9DVr3nx1n9kFE7hGRjSKysaDg/P7nwkICGZMazbheHc7r8UopZZWr+8cxIiWK4CD3X8sS5MQ+uUAnh6/jgLoXbJ7eJ1dEgoBw4HjdJzLGzAJmAaSlpZ3X7yUjUqIZkaKnY5RS3ic4KIA5tw9sktdy5p+PDUCSiHQVkWBgErCgzj4LgNvst68DvjdN9ZawUkqpn2lw5G6MqRaRKcBiIBCYY4zZISJPAxuNMQuAN4F3RSSD2hH7JHeGVkopdXbOnJbBGLMIWFRn2+MOt8uB610bTSml1Pny2k+oKqWUOjMtd6WU8kFa7kop5YO03JVSygdpuSullA8Sqy5HF5ECIOc8Hx4BHHVhHFfRXOdGc507T82muc5NY3J1McZENrSTZeXeGCKy0RiTZnWOujTXudFc585Ts2muc9MUufS0jFJK+SAtd6WU8kHeWu6zrA5wBprr3Giuc+ep2TTXuXF7Lq88566UUursvHXkrpRS6iw8ttxF5HoR2SEiNhE547vKZ1q82z5F8ToR2WtfvDvYRbnaicg39uf9RkTa1rPPcBH50eFPuYhcZb/vbRHZ53Bfv6bKZd+vxuG1Fzhst/J49RORNfbv9zYRudHhPpcer8Ys9i4i0+3b00Xk8sbkOI9cD4nITvvx+U5EujjcV+/3tIly3S4iBQ6vf5fDfbfZv+97ReS2uo91c66XHDLtEZETDve583jNEZF8EfnpDPeLiLxsz71NRAY43Ofa42WM8cg/QA+gO7AMSDvDPoFAJpAABANbgVT7ffOBSfbbM4H7XJTreeAx++3HgL82sH87aqdBbmH/+m3gOjccL6dyASVn2G7Z8QKSgST77RjgENDG1cfrbD8vDvv8Bphpvz0J+Jf9dqp9/xCgq/15Apsw13CHn6H7Tuc62/e0iXLdDrxSz2PbAVn2/7a1327bVLnq7D+V2qnK3Xq87M99KTAA+OkM948HvqJ29bohwDp3HS+PHbkbY3YZY9Ib2K3exbtFRIAR1C7WDbWLd1/lomiOi4E787zXAV8ZY0pd9Ppncq65/sPq42WM2WOM2Wu/nQfkAw1+SOM8NGax94nAh8aYCmPMPiDD/nxNkssYs9ThZ2gttSuiuZszx+tMLge+McYcN8YUAt8AYy3KNRmY56LXPitjzArqWYXOwURgrqm1FmgjIh1xw/Hy2HJ30pkW724PnDC1i3U7bneFaGPMIQD7f6Ma2H8SP//Betb+K9lLIhLSxLlCpXYd27WnTxXhQcdLRAZROxrLdNjsquPVmMXenXmsO3M5upPa0d9p9X1PmzLXtfbvz8cicnpJTo84XvbTV12B7x02u+t4OeNM2V1+vJxarMNdRORboL6Vrv9ojPncmaeoZ5s5y/ZG53L2OezP0xHoTe0qVqdNBw5TW2CzgEeBp5swV2djTJ6IJADfi8h24GQ9+1l1vN4FbjPG2Oybz/t41fcS9WxzdrH3Rv1MNcDp5xaRm4E04DKHzT/7nhpjMut7vBtyfQHMM8ZUiMivqf2tZ4STj3VnrtMmAR8bY2octrnreDmjyX6+LC13Y8yoRj7FmRbvPkrtrztB9tFXfYt6n1cuETkiIh2NMYfsZZR/lqe6AfjMGFPl8NyH7DcrROQt4HdNmct+2gNjTJaILAP6A59g8fESkdbAQuBP9l9XTz/3eR+vejRmsXdnHuvOXIjIKGr/wbzMGFNxevsZvqeuKKsGcxljjjl8ORv4q8Njh9V57DIXZHIql4NJwP2OG9x4vJxxpuwuP17eflqm3sW7Te07FEupPd8NtYt3O/ObgDMcFwNv6Hl/dq7PXnCnz3NfBdT7rro7colI29OnNUQkArgI2Gn18bJ/7z6j9lzkR3Xuc+Xxasxi7wuASVJ7NU1XIAlY34gs55RLRPoDrwMTjDH5Dtvr/Z42Ya6ODl9OAHbZby8GxtjztQXG8N+/wbo1lz1bd2rfnFzjsM2dx8sZC4Bb7VfNDAGK7AMY1x8vd71r3Ng/wNXU/mtWARwBFtu3xwCLHPYbD+yh9l/ePzpsT6D2L18G8BEQ4qJc7YHvgL32/7azb08D3nDYLx44CATUefz3wHZqS+o9IKypcgEX2l97q/2/d3rC8QJuBqqAHx3+9HPH8arv54Xa0zwT7LdD7f//GfbjkeDw2D/aH5cOjHPxz3tDub61/z04fXwWNPQ9baJcfwF22F9/KZDi8Nhf2Y9jBnBHU+ayf/0k8Fydx7n7eM2j9mqvKmr7607g18Cv7fcLMMOeezsOVwK6+njpJ1SVUsoHeftpGaWUUvXQcldKKR+k5a6UUj5Iy10ppXyQlrtSSvkgLXellPJBWu5KKeWDtNyVUsoH/X/snnJhYXn+VAAAAABJRU5ErkJggg==\n",
          "text/plain": "<Figure size 432x288 with 1 Axes>"
         },
         "metadata": {
          "needs_background": "light"
         },
         "output_type": "display_data"
        }
       ]
      }
     },
     "1a1c2ea9361c47018a67e1717150f3da": {
      "model_module": "@jupyter-widgets/base",
      "model_module_version": "1.1.0",
      "model_name": "LayoutModel",
      "state": {}
     },
     "1c0ab395f503437e8eba9d95fd957bfc": {
      "model_module": "@jupyter-widgets/output",
      "model_module_version": "1.0.0",
      "model_name": "OutputModel",
      "state": {
       "layout": "IPY_MODEL_23e3df3d172b419f8bba5e3bb743bf6d",
       "outputs": [
        {
         "name": "stdout",
         "output_type": "stream",
         "text": "cos selected\n"
        },
        {
         "data": {
          "image/png": "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\n",
          "text/plain": "<Figure size 432x288 with 1 Axes>"
         },
         "metadata": {
          "needs_background": "light"
         },
         "output_type": "display_data"
        }
       ]
      }
     },
     "1d04639816884a93b7d10e29d7de7c00": {
      "model_module": "@jupyter-widgets/controls",
      "model_module_version": "1.4.0",
      "model_name": "DescriptionStyleModel",
      "state": {
       "description_width": ""
      }
     },
     "1f5f52d9be1a490a8fdd2a912bcf75f5": {
      "model_module": "@jupyter-widgets/controls",
      "model_module_version": "1.4.0",
      "model_name": "DescriptionStyleModel",
      "state": {
       "description_width": ""
      }
     },
     "20035a3e35da40588e7d5256474a733d": {
      "model_module": "@jupyter-widgets/controls",
      "model_module_version": "1.4.0",
      "model_name": "ToggleButtonModel",
      "state": {
       "description": "boolean",
       "layout": "IPY_MODEL_459015c611894b26a6d8b19f968b4e9b",
       "style": "IPY_MODEL_e2cfd018c12f44c48b1e55d1f977d858"
      }
     },
     "23e3df3d172b419f8bba5e3bb743bf6d": {
      "model_module": "@jupyter-widgets/base",
      "model_module_version": "1.1.0",
      "model_name": "LayoutModel",
      "state": {}
     },
     "24a524c6c85c4089bc1151e9f2e93197": {
      "model_module": "@jupyter-widgets/controls",
      "model_module_version": "1.4.0",
      "model_name": "FloatSliderModel",
      "state": {
       "layout": "IPY_MODEL_861e6578f08946bba5454c18fe8b312e",
       "max": 1,
       "step": 0.01,
       "style": "IPY_MODEL_35f1e31af9a54fdbb9f987bacdfaec32",
       "value": 0.5
      }
     },
     "2651ae683a9844858ec0e22113c7aa83": {
      "model_module": "@jupyter-widgets/base",
      "model_module_version": "1.1.0",
      "model_name": "LayoutModel",
      "state": {}
     },
     "26c82a7d394343498308582f1b0d0269": {
      "model_module": "@jupyter-widgets/controls",
      "model_module_version": "1.4.0",
      "model_name": "SliderStyleModel",
      "state": {
       "description_width": ""
      }
     },
     "28c03e5200cb406fa8ac56a299bfaa66": {
      "model_module": "@jupyter-widgets/controls",
      "model_module_version": "1.4.0",
      "model_name": "FloatSliderModel",
      "state": {
       "description": "k",
       "layout": "IPY_MODEL_fb3ff088fcd74397ba0c61a702795ac0",
       "max": 2,
       "step": 0.1,
       "style": "IPY_MODEL_5500f22095d94f8e8b52edcbe88e01b9",
       "value": 0.9
      }
     },
     "32f26d995a7844f98a9637857cc8f2cf": {
      "model_module": "@jupyter-widgets/controls",
      "model_module_version": "1.4.0",
      "model_name": "SelectModel",
      "state": {
       "_options_labels": [
        "a",
        "b",
        "c"
       ],
       "description": "select menu",
       "index": 0,
       "layout": "IPY_MODEL_435ad5786bd443cbbb60d50bd79e1697",
       "style": "IPY_MODEL_e6cbb953cbcb44bf89b08ab56c3ea02b"
      }
     },
     "35f1e31af9a54fdbb9f987bacdfaec32": {
      "model_module": "@jupyter-widgets/controls",
      "model_module_version": "1.4.0",
      "model_name": "SliderStyleModel",
      "state": {
       "description_width": ""
      }
     },
     "375de1327c814fe2a6c1ab67fa59cba8": {
      "model_module": "@jupyter-widgets/base",
      "model_module_version": "1.1.0",
      "model_name": "LayoutModel",
      "state": {}
     },
     "3a3beb91766e4610abd8c32c481c1dc5": {
      "model_module": "@jupyter-widgets/base",
      "model_module_version": "1.1.0",
      "model_name": "LayoutModel",
      "state": {}
     },
     "3ac0a326c70f420095f31ca83ba9e5e7": {
      "model_module": "@jupyter-widgets/base",
      "model_module_version": "1.1.0",
      "model_name": "LayoutModel",
      "state": {}
     },
     "3bee617bbc2140c2ab4cad0f3845d254": {
      "model_module": "@jupyter-widgets/base",
      "model_module_version": "1.1.0",
      "model_name": "LayoutModel",
      "state": {}
     },
     "416bc83d15e64ac5a884d9a5bf74e33f": {
      "model_module": "@jupyter-widgets/base",
      "model_module_version": "1.1.0",
      "model_name": "LayoutModel",
      "state": {}
     },
     "435ad5786bd443cbbb60d50bd79e1697": {
      "model_module": "@jupyter-widgets/base",
      "model_module_version": "1.1.0",
      "model_name": "LayoutModel",
      "state": {}
     },
     "459015c611894b26a6d8b19f968b4e9b": {
      "model_module": "@jupyter-widgets/base",
      "model_module_version": "1.1.0",
      "model_name": "LayoutModel",
      "state": {}
     },
     "4b85c2db1d43427e9ec4a83c7c8d85fb": {
      "model_module": "@jupyter-widgets/controls",
      "model_module_version": "1.4.0",
      "model_name": "CheckboxModel",
      "state": {
       "description": "yes",
       "disabled": false,
       "layout": "IPY_MODEL_6e014a3ecb8b4720a3fec28912e9d308",
       "style": "IPY_MODEL_b268b112467f4b1a9dbf8c08a78a62b8",
       "value": true
      }
     },
     "537275c94edd4406826bba01fda7f9bc": {
      "model_module": "@jupyter-widgets/controls",
      "model_module_version": "1.4.0",
      "model_name": "DescriptionStyleModel",
      "state": {
       "description_width": ""
      }
     },
     "5500f22095d94f8e8b52edcbe88e01b9": {
      "model_module": "@jupyter-widgets/controls",
      "model_module_version": "1.4.0",
      "model_name": "SliderStyleModel",
      "state": {
       "description_width": ""
      }
     },
     "5c320b8b60b34f2a834b4dde56dfc81f": {
      "model_module": "@jupyter-widgets/base",
      "model_module_version": "1.1.0",
      "model_name": "LayoutModel",
      "state": {}
     },
     "5fdbad0793dd49179ffd42782ce5d91e": {
      "model_module": "@jupyter-widgets/base",
      "model_module_version": "1.1.0",
      "model_name": "LayoutModel",
      "state": {}
     },
     "609ef2233b9840cd92c9d06eb7f15271": {
      "model_module": "@jupyter-widgets/controls",
      "model_module_version": "1.4.0",
      "model_name": "DescriptionStyleModel",
      "state": {
       "description_width": ""
      }
     },
     "6231e3e3dcdc48408e0f7fc19af63ba2": {
      "model_module": "@jupyter-widgets/controls",
      "model_module_version": "1.4.0",
      "model_name": "DescriptionStyleModel",
      "state": {
       "description_width": ""
      }
     },
     "676460fff6894c00a5f0a3e50b19db6c": {
      "model_module": "@jupyter-widgets/base",
      "model_module_version": "1.1.0",
      "model_name": "LayoutModel",
      "state": {}
     },
     "68a90fcf3c3d4e56bf88669b1dcbcfae": {
      "model_module": "@jupyter-widgets/controls",
      "model_module_version": "1.4.0",
      "model_name": "SliderStyleModel",
      "state": {
       "description_width": ""
      }
     },
     "6963b1eed0444c24a887d3fd9b66389f": {
      "model_module": "@jupyter-widgets/controls",
      "model_module_version": "1.4.0",
      "model_name": "DropdownModel",
      "state": {
       "_options_labels": [
        "sin",
        "cos"
       ],
       "description": "func",
       "index": 0,
       "layout": "IPY_MODEL_1a1c2ea9361c47018a67e1717150f3da",
       "style": "IPY_MODEL_537275c94edd4406826bba01fda7f9bc"
      }
     },
     "6e014a3ecb8b4720a3fec28912e9d308": {
      "model_module": "@jupyter-widgets/base",
      "model_module_version": "1.1.0",
      "model_name": "LayoutModel",
      "state": {}
     },
     "6f62e6eec8994c538e98a4fbc6b28ec6": {
      "model_module": "@jupyter-widgets/base",
      "model_module_version": "1.1.0",
      "model_name": "LayoutModel",
      "state": {}
     },
     "6f7ae4868a4a4140a8d1b4cb63b9bc01": {
      "model_module": "@jupyter-widgets/base",
      "model_module_version": "1.1.0",
      "model_name": "LayoutModel",
      "state": {}
     },
     "71dbef7f03334820be65df207d72d9ec": {
      "model_module": "@jupyter-widgets/controls",
      "model_module_version": "1.4.0",
      "model_name": "DropdownModel",
      "state": {
       "_options_labels": [
        "sin",
        "cos"
       ],
       "description": "func",
       "index": 0,
       "layout": "IPY_MODEL_5fdbad0793dd49179ffd42782ce5d91e",
       "style": "IPY_MODEL_ff01a80c8ca544b8a6a35c55bed4b3b6"
      }
     },
     "7996ef3dc5084c1bb7d4c2e66cc62e59": {
      "model_module": "@jupyter-widgets/output",
      "model_module_version": "1.0.0",
      "model_name": "OutputModel",
      "state": {
       "layout": "IPY_MODEL_c919ab8691d8479782303078442df736",
       "outputs": [
        {
         "name": "stdout",
         "output_type": "stream",
         "text": "sin selected\n"
        },
        {
         "data": {
          "image/png": "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\n",
          "text/plain": "<Figure size 432x288 with 1 Axes>"
         },
         "metadata": {
          "needs_background": "light"
         },
         "output_type": "display_data"
        }
       ]
      }
     },
     "7ef4b9dd490744be8ee43861bd34f70b": {
      "model_module": "@jupyter-widgets/controls",
      "model_module_version": "1.4.0",
      "model_name": "VBoxModel",
      "state": {
       "_dom_classes": [
        "widget-interact"
       ],
       "children": [
        "IPY_MODEL_ceaf1473669944f8bedfcb75afb033c6",
        "IPY_MODEL_c1c8c7e6a22f47219c15f52d992a3c60",
        "IPY_MODEL_a857b4500ead4bf180ed4e84db96f28a",
        "IPY_MODEL_1c0ab395f503437e8eba9d95fd957bfc"
       ],
       "layout": "IPY_MODEL_375de1327c814fe2a6c1ab67fa59cba8"
      }
     },
     "861e6578f08946bba5454c18fe8b312e": {
      "model_module": "@jupyter-widgets/base",
      "model_module_version": "1.1.0",
      "model_name": "LayoutModel",
      "state": {}
     },
     "90166b7732de4d6facf81cfa7924f9b3": {
      "model_module": "@jupyter-widgets/controls",
      "model_module_version": "1.4.0",
      "model_name": "VBoxModel",
      "state": {
       "_dom_classes": [
        "widget-interact"
       ],
       "children": [
        "IPY_MODEL_b5d8644ccdd245fc8f27ff40dd544e7b",
        "IPY_MODEL_e1246f0b451343e7a32c1782824f787c",
        "IPY_MODEL_b7f6fd4d55564876a71b48e891151a72",
        "IPY_MODEL_16a0f9053ab444679e091e6c5324d8cb"
       ],
       "layout": "IPY_MODEL_2651ae683a9844858ec0e22113c7aa83"
      }
     },
     "94019063fe384ef49a7155fa719f6cc7": {
      "model_module": "@jupyter-widgets/controls",
      "model_module_version": "1.4.0",
      "model_name": "DescriptionStyleModel",
      "state": {
       "description_width": ""
      }
     },
     "9558dd17fed7482f8181e32c60096585": {
      "model_module": "@jupyter-widgets/controls",
      "model_module_version": "1.4.0",
      "model_name": "ButtonModel",
      "state": {
       "description": "a button",
       "layout": "IPY_MODEL_6f7ae4868a4a4140a8d1b4cb63b9bc01",
       "style": "IPY_MODEL_e6eebf5c894a4d068c90ee4172565bde"
      }
     },
     "9c400f0813814addbb8656c66785ea95": {
      "model_module": "@jupyter-widgets/base",
      "model_module_version": "1.1.0",
      "model_name": "LayoutModel",
      "state": {}
     },
     "a0e96304c10749d986d55aac1b062a5c": {
      "model_module": "@jupyter-widgets/base",
      "model_module_version": "1.1.0",
      "model_name": "LayoutModel",
      "state": {}
     },
     "a39a8c85b3e94f45a0ecb76165a1a420": {
      "model_module": "@jupyter-widgets/base",
      "model_module_version": "1.1.0",
      "model_name": "LayoutModel",
      "state": {}
     },
     "a53bb003f05746c2900e31c953bf8e99": {
      "model_module": "@jupyter-widgets/controls",
      "model_module_version": "1.4.0",
      "model_name": "DescriptionStyleModel",
      "state": {
       "description_width": ""
      }
     },
     "a857b4500ead4bf180ed4e84db96f28a": {
      "model_module": "@jupyter-widgets/controls",
      "model_module_version": "1.4.0",
      "model_name": "CheckboxModel",
      "state": {
       "description": "refresh",
       "disabled": false,
       "layout": "IPY_MODEL_0490689c48e845b882d2df4162c19ba8",
       "style": "IPY_MODEL_a53bb003f05746c2900e31c953bf8e99",
       "value": true
      }
     },
     "b268b112467f4b1a9dbf8c08a78a62b8": {
      "model_module": "@jupyter-widgets/controls",
      "model_module_version": "1.4.0",
      "model_name": "DescriptionStyleModel",
      "state": {
       "description_width": ""
      }
     },
     "b5d8644ccdd245fc8f27ff40dd544e7b": {
      "model_module": "@jupyter-widgets/controls",
      "model_module_version": "1.4.0",
      "model_name": "FloatSliderModel",
      "state": {
       "description": "k",
       "layout": "IPY_MODEL_6f62e6eec8994c538e98a4fbc6b28ec6",
       "max": 2,
       "step": 0.1,
       "style": "IPY_MODEL_68a90fcf3c3d4e56bf88669b1dcbcfae",
       "value": 0.5
      }
     },
     "b7f6fd4d55564876a71b48e891151a72": {
      "model_module": "@jupyter-widgets/controls",
      "model_module_version": "1.4.0",
      "model_name": "CheckboxModel",
      "state": {
       "description": "refresh",
       "disabled": false,
       "layout": "IPY_MODEL_e57a9fd25e8648b2a540b6a77d135288",
       "style": "IPY_MODEL_1d04639816884a93b7d10e29d7de7c00",
       "value": true
      }
     },
     "c18bfb79c29647aaada45ae7487072a6": {
      "model_module": "@jupyter-widgets/base",
      "model_module_version": "1.1.0",
      "model_name": "LayoutModel",
      "state": {}
     },
     "c1c8c7e6a22f47219c15f52d992a3c60": {
      "model_module": "@jupyter-widgets/controls",
      "model_module_version": "1.4.0",
      "model_name": "DropdownModel",
      "state": {
       "_options_labels": [
        "sin",
        "cos"
       ],
       "description": "func",
       "index": 1,
       "layout": "IPY_MODEL_3bee617bbc2140c2ab4cad0f3845d254",
       "style": "IPY_MODEL_94019063fe384ef49a7155fa719f6cc7"
      }
     },
     "c447edacae01436c851418bd057bf6d5": {
      "model_module": "@jupyter-widgets/controls",
      "model_module_version": "1.4.0",
      "model_name": "DescriptionStyleModel",
      "state": {
       "description_width": ""
      }
     },
     "c919ab8691d8479782303078442df736": {
      "model_module": "@jupyter-widgets/base",
      "model_module_version": "1.1.0",
      "model_name": "LayoutModel",
      "state": {}
     },
     "ceaf1473669944f8bedfcb75afb033c6": {
      "model_module": "@jupyter-widgets/controls",
      "model_module_version": "1.4.0",
      "model_name": "FloatSliderModel",
      "state": {
       "description": "k",
       "layout": "IPY_MODEL_a39a8c85b3e94f45a0ecb76165a1a420",
       "max": 2,
       "step": 0.1,
       "style": "IPY_MODEL_26c82a7d394343498308582f1b0d0269",
       "value": 0.4
      }
     },
     "d2dcdf8839a34ba8a119c9311131b336": {
      "model_module": "@jupyter-widgets/controls",
      "model_module_version": "1.4.0",
      "model_name": "CheckboxModel",
      "state": {
       "description": "refresh",
       "disabled": false,
       "layout": "IPY_MODEL_416bc83d15e64ac5a884d9a5bf74e33f",
       "style": "IPY_MODEL_da4ff5e8e8de4eaa97765ed847ef060a",
       "value": true
      }
     },
     "d5b8ceced57e48b3b8d42ca6a12e75a9": {
      "model_module": "@jupyter-widgets/controls",
      "model_module_version": "1.4.0",
      "model_name": "DropdownModel",
      "state": {
       "_options_labels": [
        "a",
        "b",
        "c"
       ],
       "description": "dropdown",
       "index": 0,
       "layout": "IPY_MODEL_f999f23bdcc24a4bbf3d46444f80550f",
       "style": "IPY_MODEL_6231e3e3dcdc48408e0f7fc19af63ba2"
      }
     },
     "da4ff5e8e8de4eaa97765ed847ef060a": {
      "model_module": "@jupyter-widgets/controls",
      "model_module_version": "1.4.0",
      "model_name": "DescriptionStyleModel",
      "state": {
       "description_width": ""
      }
     },
     "df997a43dc4243969791318e6ba24127": {
      "model_module": "@jupyter-widgets/output",
      "model_module_version": "1.0.0",
      "model_name": "OutputModel",
      "state": {
       "layout": "IPY_MODEL_676460fff6894c00a5f0a3e50b19db6c",
       "outputs": [
        {
         "name": "stdout",
         "output_type": "stream",
         "text": "sin selected\n"
        },
        {
         "data": {
          "image/png": "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\n",
          "text/plain": "<Figure size 432x288 with 1 Axes>"
         },
         "metadata": {
          "needs_background": "light"
         },
         "output_type": "display_data"
        }
       ]
      }
     },
     "e1246f0b451343e7a32c1782824f787c": {
      "model_module": "@jupyter-widgets/controls",
      "model_module_version": "1.4.0",
      "model_name": "DropdownModel",
      "state": {
       "_options_labels": [
        "sin",
        "cos"
       ],
       "description": "func",
       "index": 1,
       "layout": "IPY_MODEL_3ac0a326c70f420095f31ca83ba9e5e7",
       "style": "IPY_MODEL_1f5f52d9be1a490a8fdd2a912bcf75f5"
      }
     },
     "e14329a437ae48c193c4660774c687ea": {
      "model_module": "@jupyter-widgets/controls",
      "model_module_version": "1.4.0",
      "model_name": "VBoxModel",
      "state": {
       "_dom_classes": [
        "widget-interact"
       ],
       "children": [
        "IPY_MODEL_28c03e5200cb406fa8ac56a299bfaa66",
        "IPY_MODEL_6963b1eed0444c24a887d3fd9b66389f",
        "IPY_MODEL_df997a43dc4243969791318e6ba24127"
       ],
       "layout": "IPY_MODEL_c18bfb79c29647aaada45ae7487072a6"
      }
     },
     "e2cfd018c12f44c48b1e55d1f977d858": {
      "model_module": "@jupyter-widgets/controls",
      "model_module_version": "1.4.0",
      "model_name": "DescriptionStyleModel",
      "state": {
       "description_width": ""
      }
     },
     "e57a9fd25e8648b2a540b6a77d135288": {
      "model_module": "@jupyter-widgets/base",
      "model_module_version": "1.1.0",
      "model_name": "LayoutModel",
      "state": {}
     },
     "e6cbb953cbcb44bf89b08ab56c3ea02b": {
      "model_module": "@jupyter-widgets/controls",
      "model_module_version": "1.4.0",
      "model_name": "DescriptionStyleModel",
      "state": {
       "description_width": ""
      }
     },
     "e6eebf5c894a4d068c90ee4172565bde": {
      "model_module": "@jupyter-widgets/controls",
      "model_module_version": "1.4.0",
      "model_name": "ButtonStyleModel",
      "state": {}
     },
     "efb2204c11bb498f9f88ef17a770726f": {
      "model_module": "@jupyter-widgets/controls",
      "model_module_version": "1.4.0",
      "model_name": "FloatSliderModel",
      "state": {
       "description": "k",
       "layout": "IPY_MODEL_5c320b8b60b34f2a834b4dde56dfc81f",
       "max": 2,
       "step": 0.1,
       "style": "IPY_MODEL_f63ef712ec594bf0afb3be1761acb002",
       "value": 0.7
      }
     },
     "f0d75b7a099740ba82658e0dd145f464": {
      "model_module": "@jupyter-widgets/controls",
      "model_module_version": "1.4.0",
      "model_name": "DropdownModel",
      "state": {
       "_options_labels": [
        "a",
        "b",
        "c"
       ],
       "description": "dropdown",
       "index": 0,
       "layout": "IPY_MODEL_3a3beb91766e4610abd8c32c481c1dc5",
       "style": "IPY_MODEL_609ef2233b9840cd92c9d06eb7f15271"
      }
     },
     "f63ef712ec594bf0afb3be1761acb002": {
      "model_module": "@jupyter-widgets/controls",
      "model_module_version": "1.4.0",
      "model_name": "SliderStyleModel",
      "state": {
       "description_width": ""
      }
     },
     "f84c9499b4134a85b1480c12d3ed3558": {
      "model_module": "@jupyter-widgets/base",
      "model_module_version": "1.1.0",
      "model_name": "LayoutModel",
      "state": {}
     },
     "f999f23bdcc24a4bbf3d46444f80550f": {
      "model_module": "@jupyter-widgets/base",
      "model_module_version": "1.1.0",
      "model_name": "LayoutModel",
      "state": {}
     },
     "fb3ff088fcd74397ba0c61a702795ac0": {
      "model_module": "@jupyter-widgets/base",
      "model_module_version": "1.1.0",
      "model_name": "LayoutModel",
      "state": {}
     },
     "ff01a80c8ca544b8a6a35c55bed4b3b6": {
      "model_module": "@jupyter-widgets/controls",
      "model_module_version": "1.4.0",
      "model_name": "DescriptionStyleModel",
      "state": {
       "description_width": ""
      }
     }
    },
    "version_major": 2,
    "version_minor": 0
   }
  }
 },
 "nbformat": 4,
 "nbformat_minor": 2
}
