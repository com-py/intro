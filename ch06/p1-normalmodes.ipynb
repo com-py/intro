{
 "cells": [
  {
   "cell_type": "markdown",
   "metadata": {},
   "source": [
    "## <span style=\"color:blue\">Introduction to computation in physical sciences</span>\n",
    "### J Wang and A Wang, [github.com/com-py/intro](https://github.com/com-py/intro) \n",
    "### Ch06, `p1-normalmodes`, Normal modes"
   ]
  },
  {
   "cell_type": "code",
   "execution_count": 1,
   "metadata": {},
   "outputs": [],
   "source": [
    "from sympy import *\n",
    "init_printing()"
   ]
  },
  {
   "cell_type": "code",
   "execution_count": 2,
   "metadata": {},
   "outputs": [],
   "source": [
    "m1, m2, m3, m, M = symbols(\"m_1 m_2 m_3 m M\", real=True, positive=True)\n",
    "k, k1, k2 = symbols(\"k k_1 k_2\", real=True, positive=True)"
   ]
  },
  {
   "cell_type": "code",
   "execution_count": 3,
   "metadata": {},
   "outputs": [
    {
     "data": {
      "image/png": "[encoded data removed]",
      "text/latex": [
       "$$\\left[\\begin{matrix}\\frac{k}{m_{1}} & - \\frac{k}{m_{1}}\\\\- \\frac{k}{m_{2}} & \\frac{k}{m_{2}}\\end{matrix}\\right]$$"
      ],
      "text/plain": [
       "⎡k    -k ⎤\n",
       "⎢──   ───⎥\n",
       "⎢m₁    m₁⎥\n",
       "⎢        ⎥\n",
       "⎢-k   k  ⎥\n",
       "⎢───  ── ⎥\n",
       "⎣ m₂  m₂ ⎦"
      ]
     },
     "execution_count": 3,
     "metadata": {},
     "output_type": "execute_result"
    }
   ],
   "source": [
    "A = Matrix([[k/m1,-k/m1],[-k/m2,k/m2]])\n",
    "A"
   ]
  },
  {
   "cell_type": "code",
   "execution_count": 4,
   "metadata": {},
   "outputs": [
    {
     "data": {
      "image/png": "[encoded data removed]",
      "text/latex": [
       "$$\\left \\{ 0 : 1, \\quad \\frac{k \\left(m_{1} + m_{2}\\right)}{m_{1} m_{2}} : 1\\right \\}$$"
      ],
      "text/plain": [
       "⎧      k⋅(m₁ + m₂)   ⎫\n",
       "⎨0: 1, ───────────: 1⎬\n",
       "⎩         m₁⋅m₂      ⎭"
      ]
     },
     "execution_count": 4,
     "metadata": {},
     "output_type": "execute_result"
    }
   ],
   "source": [
    "vals = A.eigenvals()\n",
    "vals"
   ]
  },
  {
   "cell_type": "code",
   "execution_count": 5,
   "metadata": {},
   "outputs": [
    {
     "data": {
      "image/png": "[encoded data removed]",
      "text/latex": [
       "$$\\left [ \\left ( 0, \\quad 1, \\quad \\left [ \\left[\\begin{matrix}1\\\\1\\end{matrix}\\right]\\right ]\\right ), \\quad \\left ( \\frac{k \\left(m_{1} + m_{2}\\right)}{m_{1} m_{2}}, \\quad 1, \\quad \\left [ \\left[\\begin{matrix}\\frac{m_{2}}{k} \\left(\\frac{k}{m_{2}} - \\frac{k \\left(m_{1} + m_{2}\\right)}{m_{1} m_{2}}\\right)\\\\1\\end{matrix}\\right]\\right ]\\right )\\right ]$$"
      ],
      "text/plain": [
       "⎡               ⎛                ⎡⎡   ⎛k    k⋅(m₁ + m₂)⎞⎤⎤⎞⎤\n",
       "⎢               ⎜                ⎢⎢m₂⋅⎜── - ───────────⎟⎥⎥⎟⎥\n",
       "⎢⎛      ⎡⎡1⎤⎤⎞  ⎜k⋅(m₁ + m₂)     ⎢⎢   ⎝m₂      m₁⋅m₂   ⎠⎥⎥⎟⎥\n",
       "⎢⎜0, 1, ⎢⎢ ⎥⎥⎟, ⎜───────────, 1, ⎢⎢─────────────────────⎥⎥⎟⎥\n",
       "⎢⎝      ⎣⎣1⎦⎦⎠  ⎜   m₁⋅m₂        ⎢⎢          k          ⎥⎥⎟⎥\n",
       "⎢               ⎜                ⎢⎢                     ⎥⎥⎟⎥\n",
       "⎣               ⎝                ⎣⎣          1          ⎦⎦⎠⎦"
      ]
     },
     "execution_count": 5,
     "metadata": {},
     "output_type": "execute_result"
    }
   ],
   "source": [
    "vecs = A.eigenvects()\n",
    "vecs"
   ]
  },
  {
   "cell_type": "code",
   "execution_count": 6,
   "metadata": {
    "scrolled": true
   },
   "outputs": [
    {
     "data": {
      "image/png": "[encoded data removed]",
      "text/latex": [
       "$$\\left [ \\left ( 0, \\quad 1, \\quad \\left [ \\left[\\begin{matrix}1\\\\1\\end{matrix}\\right]\\right ]\\right ), \\quad \\left ( \\frac{k \\left(m_{1} + m_{2}\\right)}{m_{1} m_{2}}, \\quad 1, \\quad \\left [ \\left[\\begin{matrix}\\frac{m_{2}}{k} \\left(\\frac{k}{m_{2}} - \\frac{k \\left(m_{1} + m_{2}\\right)}{m_{1} m_{2}}\\right)\\\\1\\end{matrix}\\right]\\right ]\\right )\\right ]$$"
      ],
      "text/plain": [
       "⎡               ⎛                ⎡⎡   ⎛k    k⋅(m₁ + m₂)⎞⎤⎤⎞⎤\n",
       "⎢               ⎜                ⎢⎢m₂⋅⎜── - ───────────⎟⎥⎥⎟⎥\n",
       "⎢⎛      ⎡⎡1⎤⎤⎞  ⎜k⋅(m₁ + m₂)     ⎢⎢   ⎝m₂      m₁⋅m₂   ⎠⎥⎥⎟⎥\n",
       "⎢⎜0, 1, ⎢⎢ ⎥⎥⎟, ⎜───────────, 1, ⎢⎢─────────────────────⎥⎥⎟⎥\n",
       "⎢⎝      ⎣⎣1⎦⎦⎠  ⎜   m₁⋅m₂        ⎢⎢          k          ⎥⎥⎟⎥\n",
       "⎢               ⎜                ⎢⎢                     ⎥⎥⎟⎥\n",
       "⎣               ⎝                ⎣⎣          1          ⎦⎦⎠⎦"
      ]
     },
     "execution_count": 6,
     "metadata": {},
     "output_type": "execute_result"
    }
   ],
   "source": [
    "simplify(vecs)"
   ]
  },
  {
   "cell_type": "code",
   "execution_count": 7,
   "metadata": {},
   "outputs": [
    {
     "data": {
      "image/png": "[encoded data removed]",
      "text/latex": [
       "$$\\left [ \\left ( 0, \\quad 1, \\quad \\left [ \\left[\\begin{matrix}1\\\\1\\end{matrix}\\right]\\right ]\\right ), \\quad \\left ( \\frac{k \\left(m_{1} + m_{2}\\right)}{m_{1} m_{2}}, \\quad 1, \\quad \\left [ \\left[\\begin{matrix}- \\frac{m_{2}}{m_{1}}\\\\1\\end{matrix}\\right]\\right ]\\right )\\right ]$$"
      ],
      "text/plain": [
       "⎡               ⎛                ⎡⎡-m₂ ⎤⎤⎞⎤\n",
       "⎢⎛      ⎡⎡1⎤⎤⎞  ⎜k⋅(m₁ + m₂)     ⎢⎢────⎥⎥⎟⎥\n",
       "⎢⎜0, 1, ⎢⎢ ⎥⎥⎟, ⎜───────────, 1, ⎢⎢ m₁ ⎥⎥⎟⎥\n",
       "⎢⎝      ⎣⎣1⎦⎦⎠  ⎜   m₁⋅m₂        ⎢⎢    ⎥⎥⎟⎥\n",
       "⎣               ⎝                ⎣⎣ 1  ⎦⎦⎠⎦"
      ]
     },
     "execution_count": 7,
     "metadata": {},
     "output_type": "execute_result"
    }
   ],
   "source": [
    "factor(vecs)"
   ]
  },
  {
   "cell_type": "code",
   "execution_count": 8,
   "metadata": {},
   "outputs": [
    {
     "data": {
      "image/png": "[encoded data removed]",
      "text/latex": [
       "$$\\left[\\begin{matrix}\\frac{k_{1}}{m_{1}} & - \\frac{k_{1}}{m_{1}} & 0\\\\- \\frac{k_{1}}{m_{2}} & \\frac{1}{m_{2}} \\left(k_{1} + k_{2}\\right) & - \\frac{k_{2}}{m_{2}}\\\\0 & - \\frac{k_{2}}{m_{3}} & \\frac{k_{2}}{m_{3}}\\end{matrix}\\right]$$"
      ],
      "text/plain": [
       "⎡ k₁    -k₁         ⎤\n",
       "⎢ ──    ────     0  ⎥\n",
       "⎢ m₁     m₁         ⎥\n",
       "⎢                   ⎥\n",
       "⎢-k₁   k₁ + k₂  -k₂ ⎥\n",
       "⎢────  ───────  ────⎥\n",
       "⎢ m₂      m₂     m₂ ⎥\n",
       "⎢                   ⎥\n",
       "⎢       -k₂      k₂ ⎥\n",
       "⎢ 0     ────     ── ⎥\n",
       "⎣        m₃      m₃ ⎦"
      ]
     },
     "execution_count": 8,
     "metadata": {},
     "output_type": "execute_result"
    }
   ],
   "source": [
    "A = Matrix([[k1/m1,-k1/m1,0],[-k1/m2,(k1+k2)/m2,-k2/m2],[0,-k2/m3,k2/m3]])\n",
    "A"
   ]
  },
  {
   "cell_type": "code",
   "execution_count": 9,
   "metadata": {},
   "outputs": [
    {
     "data": {
      "image/png": "[encoded data removed]",
      "text/latex": [
       "$$\\left [ \\frac{1}{2 m_{1} m_{2} m_{3}} \\left(k_{1} m_{1} m_{3} + k_{1} m_{2} m_{3} + k_{2} m_{1} m_{2} + k_{2} m_{1} m_{3}\\right) - \\frac{1}{2 m_{1} m_{2} m_{3}} \\sqrt{k_{1}^{2} m_{1}^{2} m_{3}^{2} + 2 k_{1}^{2} m_{1} m_{2} m_{3}^{2} + k_{1}^{2} m_{2}^{2} m_{3}^{2} - 2 k_{1} k_{2} m_{1}^{2} m_{2} m_{3} + 2 k_{1} k_{2} m_{1}^{2} m_{3}^{2} - 2 k_{1} k_{2} m_{1} m_{2}^{2} m_{3} - 2 k_{1} k_{2} m_{1} m_{2} m_{3}^{2} + k_{2}^{2} m_{1}^{2} m_{2}^{2} + 2 k_{2}^{2} m_{1}^{2} m_{2} m_{3} + k_{2}^{2} m_{1}^{2} m_{3}^{2}}, \\quad \\frac{1}{2 m_{1} m_{2} m_{3}} \\left(k_{1} m_{1} m_{3} + k_{1} m_{2} m_{3} + k_{2} m_{1} m_{2} + k_{2} m_{1} m_{3}\\right) + \\frac{1}{2 m_{1} m_{2} m_{3}} \\sqrt{k_{1}^{2} m_{1}^{2} m_{3}^{2} + 2 k_{1}^{2} m_{1} m_{2} m_{3}^{2} + k_{1}^{2} m_{2}^{2} m_{3}^{2} - 2 k_{1} k_{2} m_{1}^{2} m_{2} m_{3} + 2 k_{1} k_{2} m_{1}^{2} m_{3}^{2} - 2 k_{1} k_{2} m_{1} m_{2}^{2} m_{3} - 2 k_{1} k_{2} m_{1} m_{2} m_{3}^{2} + k_{2}^{2} m_{1}^{2} m_{2}^{2} + 2 k_{2}^{2} m_{1}^{2} m_{2} m_{3} + k_{2}^{2} m_{1}^{2} m_{3}^{2}}, \\quad 0\\right ]$$"
      ],
      "text/plain": [
       "⎡                                               ______________________________\n",
       "⎢                                              ╱   2   2   2       2         2\n",
       "⎢k₁⋅m₁⋅m₃ + k₁⋅m₂⋅m₃ + k₂⋅m₁⋅m₂ + k₂⋅m₁⋅m₃   ╲╱  k₁ ⋅m₁ ⋅m₃  + 2⋅k₁ ⋅m₁⋅m₂⋅m₃ \n",
       "⎢───────────────────────────────────────── - ─────────────────────────────────\n",
       "⎣                2⋅m₁⋅m₂⋅m₃                                                   \n",
       "\n",
       "______________________________________________________________________________\n",
       "     2   2   2             2                   2   2                2         \n",
       " + k₁ ⋅m₂ ⋅m₃  - 2⋅k₁⋅k₂⋅m₁ ⋅m₂⋅m₃ + 2⋅k₁⋅k₂⋅m₁ ⋅m₃  - 2⋅k₁⋅k₂⋅m₁⋅m₂ ⋅m₃ - 2⋅k\n",
       "──────────────────────────────────────────────────────────────────────────────\n",
       "                                                2⋅m₁⋅m₂⋅m₃                    \n",
       "\n",
       "_____________________________________________________________                 \n",
       "             2     2   2   2       2   2           2   2   2                  \n",
       "₁⋅k₂⋅m₁⋅m₂⋅m₃  + k₂ ⋅m₁ ⋅m₂  + 2⋅k₂ ⋅m₁ ⋅m₂⋅m₃ + k₂ ⋅m₁ ⋅m₃    k₁⋅m₁⋅m₃ + k₁⋅m\n",
       "─────────────────────────────────────────────────────────────, ───────────────\n",
       "                                                                              \n",
       "\n",
       "                                ______________________________________________\n",
       "                               ╱   2   2   2       2         2     2   2   2  \n",
       "₂⋅m₃ + k₂⋅m₁⋅m₂ + k₂⋅m₁⋅m₃   ╲╱  k₁ ⋅m₁ ⋅m₃  + 2⋅k₁ ⋅m₁⋅m₂⋅m₃  + k₁ ⋅m₂ ⋅m₃  -\n",
       "────────────────────────── + ─────────────────────────────────────────────────\n",
       " 2⋅m₁⋅m₂⋅m₃                                                                   \n",
       "\n",
       "______________________________________________________________________________\n",
       "           2                   2   2                2                      2  \n",
       " 2⋅k₁⋅k₂⋅m₁ ⋅m₂⋅m₃ + 2⋅k₁⋅k₂⋅m₁ ⋅m₃  - 2⋅k₁⋅k₂⋅m₁⋅m₂ ⋅m₃ - 2⋅k₁⋅k₂⋅m₁⋅m₂⋅m₃  +\n",
       "──────────────────────────────────────────────────────────────────────────────\n",
       "                                2⋅m₁⋅m₂⋅m₃                                    \n",
       "\n",
       "_____________________________________________   ⎤\n",
       "   2   2   2       2   2           2   2   2    ⎥\n",
       " k₂ ⋅m₁ ⋅m₂  + 2⋅k₂ ⋅m₁ ⋅m₂⋅m₃ + k₂ ⋅m₁ ⋅m₃     ⎥\n",
       "─────────────────────────────────────────────, 0⎥\n",
       "                                                ⎦"
      ]
     },
     "execution_count": 9,
     "metadata": {},
     "output_type": "execute_result"
    }
   ],
   "source": [
    "vals = A.eigenvals()\n",
    "vals = list(vals.keys()) # convert to lists\n",
    "vals"
   ]
  },
  {
   "cell_type": "code",
   "execution_count": 11,
   "metadata": {},
   "outputs": [
    {
     "data": {
      "image/png": "[encoded data removed]",
      "text/latex": [
       "$$\\frac{k}{m}$$"
      ],
      "text/plain": [
       "k\n",
       "─\n",
       "m"
      ]
     },
     "execution_count": 11,
     "metadata": {},
     "output_type": "execute_result"
    }
   ],
   "source": [
    "# simplify with special cases, m1=m3=m, m2=M, k1=k2=k\n",
    "factor(vals[0]).subs([[m1,m], [m2, M], [m3,m], [k1,k], [k2,k]])"
   ]
  },
  {
   "cell_type": "code",
   "execution_count": 16,
   "metadata": {},
   "outputs": [
    {
     "data": {
      "image/png": "[encoded data removed]",
      "text/latex": [
       "$$\\frac{1}{2 M m^{2}} \\left(2 M k m + 4 k m^{2}\\right)$$"
      ],
      "text/plain": [
       "               2\n",
       "2⋅M⋅k⋅m + 4⋅k⋅m \n",
       "────────────────\n",
       "          2     \n",
       "     2⋅M⋅m      "
      ]
     },
     "execution_count": 16,
     "metadata": {},
     "output_type": "execute_result"
    }
   ],
   "source": [
    "factor(vals[1]).subs([[m1,m], [m2, M], [m3,m], [k1,k], [k2,k]])"
   ]
  },
  {
   "cell_type": "code",
   "execution_count": 17,
   "metadata": {},
   "outputs": [
    {
     "data": {
      "image/png": "[encoded data removed]",
      "text/latex": [
       "$$\\frac{k}{m} + \\frac{2 k}{M}$$"
      ],
      "text/plain": [
       "k   2⋅k\n",
       "─ + ───\n",
       "m    M "
      ]
     },
     "execution_count": 17,
     "metadata": {},
     "output_type": "execute_result"
    }
   ],
   "source": [
    "# simplify further, \"_\" refers to last result\n",
    "simplify(_)"
   ]
  },
  {
   "cell_type": "code",
   "execution_count": 15,
   "metadata": {},
   "outputs": [
    {
     "data": {
      "image/png": "[encoded data removed]",
      "text/latex": [
       "$$\\left [ \\left[\\begin{matrix}1\\\\1\\\\1\\end{matrix}\\right], \\quad \\left[\\begin{matrix}-1\\\\0\\\\1\\end{matrix}\\right], \\quad \\left[\\begin{matrix}1\\\\- \\frac{2 m}{M}\\\\1\\end{matrix}\\right]\\right ]$$"
      ],
      "text/plain": [
       "⎡           ⎡  1  ⎤⎤\n",
       "⎢⎡1⎤  ⎡-1⎤  ⎢     ⎥⎥\n",
       "⎢⎢ ⎥  ⎢  ⎥  ⎢-2⋅m ⎥⎥\n",
       "⎢⎢1⎥, ⎢0 ⎥, ⎢─────⎥⎥\n",
       "⎢⎢ ⎥  ⎢  ⎥  ⎢  M  ⎥⎥\n",
       "⎢⎣1⎦  ⎣1 ⎦  ⎢     ⎥⎥\n",
       "⎣           ⎣  1  ⎦⎦"
      ]
     },
     "execution_count": 15,
     "metadata": {},
     "output_type": "execute_result"
    }
   ],
   "source": [
    "# eigenvectors for special cases\n",
    "A = A.subs([[m1,m], [m2, M], [m3,m], [k1,k], [k2,k]])\n",
    "vecs = A.eigenvects()\n",
    "vecs = [vecs[i][2][0] for i in [0,1,2]]  # put in list\n",
    "factor(vecs)"
   ]
  },
  {
   "cell_type": "code",
   "execution_count": null,
   "metadata": {},
   "outputs": [],
   "source": []
  }
 ],
 "metadata": {
  "kernelspec": {
   "display_name": "Python 3",
   "language": "python",
   "name": "python3"
  },
  "language_info": {
   "codemirror_mode": {
    "name": "ipython",
    "version": 3
   },
   "file_extension": ".py",
   "mimetype": "text/x-python",
   "name": "python",
   "nbconvert_exporter": "python",
   "pygments_lexer": "ipython3",
   "version": "3.7.0"
  }
 },
 "nbformat": 4,
 "nbformat_minor": 2
}
